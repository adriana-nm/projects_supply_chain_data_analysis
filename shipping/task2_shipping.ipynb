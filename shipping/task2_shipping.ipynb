{
 "cells": [
  {
   "cell_type": "markdown",
   "metadata": {},
   "source": [
    "<h2 align=center>Exploratory Data Analysis With Python and Pandas</h2>\n",
    "<h2 align=center>SHIPPING PROCESS ANALYSIS</h2>"
   ]
  },
  {
   "cell_type": "code",
   "execution_count": 1,
   "metadata": {},
   "outputs": [],
   "source": [
    "import numpy as np\n",
    "import pandas as pd\n",
    "import matplotlib.pyplot as plt\n",
    "import seaborn as sns\n",
    "from datetime import datetime"
   ]
  },
  {
   "cell_type": "markdown",
   "metadata": {},
   "source": [
    "### Task 2: Univariate & Multivariate Analysis: SHIPPING PROCESS"
   ]
  },
  {
   "cell_type": "code",
   "execution_count": 22,
   "metadata": {},
   "outputs": [],
   "source": [
    "df = pd.read_csv('../DataCoSupplyChainDataset.csv',encoding= 'unicode_escape')"
   ]
  },
  {
   "cell_type": "code",
   "execution_count": 3,
   "metadata": {},
   "outputs": [],
   "source": [
    "pd.set_option('display.max_columns', None)"
   ]
  },
  {
   "cell_type": "code",
   "execution_count": 4,
   "metadata": {
    "scrolled": true
   },
   "outputs": [
    {
     "data": {
      "text/html": [
       "<div>\n",
       "<style scoped>\n",
       "    .dataframe tbody tr th:only-of-type {\n",
       "        vertical-align: middle;\n",
       "    }\n",
       "\n",
       "    .dataframe tbody tr th {\n",
       "        vertical-align: top;\n",
       "    }\n",
       "\n",
       "    .dataframe thead th {\n",
       "        text-align: right;\n",
       "    }\n",
       "</style>\n",
       "<table border=\"1\" class=\"dataframe\">\n",
       "  <thead>\n",
       "    <tr style=\"text-align: right;\">\n",
       "      <th></th>\n",
       "      <th>Type</th>\n",
       "      <th>Days for shipping (real)</th>\n",
       "      <th>Days for shipment (scheduled)</th>\n",
       "      <th>Benefit per order</th>\n",
       "      <th>Sales per customer</th>\n",
       "      <th>Delivery Status</th>\n",
       "      <th>Late_delivery_risk</th>\n",
       "      <th>Category Id</th>\n",
       "      <th>Category Name</th>\n",
       "      <th>Customer City</th>\n",
       "      <th>Customer Country</th>\n",
       "      <th>Customer Email</th>\n",
       "      <th>Customer Fname</th>\n",
       "      <th>Customer Id</th>\n",
       "      <th>Customer Lname</th>\n",
       "      <th>Customer Password</th>\n",
       "      <th>Customer Segment</th>\n",
       "      <th>Customer State</th>\n",
       "      <th>Customer Street</th>\n",
       "      <th>Customer Zipcode</th>\n",
       "      <th>Department Id</th>\n",
       "      <th>Department Name</th>\n",
       "      <th>Latitude</th>\n",
       "      <th>Longitude</th>\n",
       "      <th>Market</th>\n",
       "      <th>Order City</th>\n",
       "      <th>Order Country</th>\n",
       "      <th>Order Customer Id</th>\n",
       "      <th>order date (DateOrders)</th>\n",
       "      <th>Order Id</th>\n",
       "      <th>Order Item Cardprod Id</th>\n",
       "      <th>Order Item Discount</th>\n",
       "      <th>Order Item Discount Rate</th>\n",
       "      <th>Order Item Id</th>\n",
       "      <th>Order Item Product Price</th>\n",
       "      <th>Order Item Profit Ratio</th>\n",
       "      <th>Order Item Quantity</th>\n",
       "      <th>Sales</th>\n",
       "      <th>Order Item Total</th>\n",
       "      <th>Order Profit Per Order</th>\n",
       "      <th>Order Region</th>\n",
       "      <th>Order State</th>\n",
       "      <th>Order Status</th>\n",
       "      <th>Order Zipcode</th>\n",
       "      <th>Product Card Id</th>\n",
       "      <th>Product Category Id</th>\n",
       "      <th>Product Description</th>\n",
       "      <th>Product Image</th>\n",
       "      <th>Product Name</th>\n",
       "      <th>Product Price</th>\n",
       "      <th>Product Status</th>\n",
       "      <th>shipping date (DateOrders)</th>\n",
       "      <th>Shipping Mode</th>\n",
       "    </tr>\n",
       "  </thead>\n",
       "  <tbody>\n",
       "    <tr>\n",
       "      <th>0</th>\n",
       "      <td>DEBIT</td>\n",
       "      <td>3</td>\n",
       "      <td>4</td>\n",
       "      <td>91.250000</td>\n",
       "      <td>314.640015</td>\n",
       "      <td>Advance shipping</td>\n",
       "      <td>0</td>\n",
       "      <td>73</td>\n",
       "      <td>Sporting Goods</td>\n",
       "      <td>Caguas</td>\n",
       "      <td>Puerto Rico</td>\n",
       "      <td>XXXXXXXXX</td>\n",
       "      <td>Cally</td>\n",
       "      <td>20755</td>\n",
       "      <td>Holloway</td>\n",
       "      <td>XXXXXXXXX</td>\n",
       "      <td>Consumer</td>\n",
       "      <td>PR</td>\n",
       "      <td>5365 Noble Nectar Island</td>\n",
       "      <td>725.0</td>\n",
       "      <td>2</td>\n",
       "      <td>Fitness</td>\n",
       "      <td>18.251453</td>\n",
       "      <td>-66.037056</td>\n",
       "      <td>Pacific Asia</td>\n",
       "      <td>Bekasi</td>\n",
       "      <td>Indonesia</td>\n",
       "      <td>20755</td>\n",
       "      <td>1/31/2018 22:56</td>\n",
       "      <td>77202</td>\n",
       "      <td>1360</td>\n",
       "      <td>13.110000</td>\n",
       "      <td>0.04</td>\n",
       "      <td>180517</td>\n",
       "      <td>327.75</td>\n",
       "      <td>0.29</td>\n",
       "      <td>1</td>\n",
       "      <td>327.75</td>\n",
       "      <td>314.640015</td>\n",
       "      <td>91.250000</td>\n",
       "      <td>Southeast Asia</td>\n",
       "      <td>Java Occidental</td>\n",
       "      <td>COMPLETE</td>\n",
       "      <td>NaN</td>\n",
       "      <td>1360</td>\n",
       "      <td>73</td>\n",
       "      <td>NaN</td>\n",
       "      <td>http://images.acmesports.sports/Smart+watch</td>\n",
       "      <td>Smart watch</td>\n",
       "      <td>327.75</td>\n",
       "      <td>0</td>\n",
       "      <td>2/3/2018 22:56</td>\n",
       "      <td>Standard Class</td>\n",
       "    </tr>\n",
       "    <tr>\n",
       "      <th>1</th>\n",
       "      <td>TRANSFER</td>\n",
       "      <td>5</td>\n",
       "      <td>4</td>\n",
       "      <td>-249.089996</td>\n",
       "      <td>311.359985</td>\n",
       "      <td>Late delivery</td>\n",
       "      <td>1</td>\n",
       "      <td>73</td>\n",
       "      <td>Sporting Goods</td>\n",
       "      <td>Caguas</td>\n",
       "      <td>Puerto Rico</td>\n",
       "      <td>XXXXXXXXX</td>\n",
       "      <td>Irene</td>\n",
       "      <td>19492</td>\n",
       "      <td>Luna</td>\n",
       "      <td>XXXXXXXXX</td>\n",
       "      <td>Consumer</td>\n",
       "      <td>PR</td>\n",
       "      <td>2679 Rustic Loop</td>\n",
       "      <td>725.0</td>\n",
       "      <td>2</td>\n",
       "      <td>Fitness</td>\n",
       "      <td>18.279451</td>\n",
       "      <td>-66.037064</td>\n",
       "      <td>Pacific Asia</td>\n",
       "      <td>Bikaner</td>\n",
       "      <td>India</td>\n",
       "      <td>19492</td>\n",
       "      <td>1/13/2018 12:27</td>\n",
       "      <td>75939</td>\n",
       "      <td>1360</td>\n",
       "      <td>16.389999</td>\n",
       "      <td>0.05</td>\n",
       "      <td>179254</td>\n",
       "      <td>327.75</td>\n",
       "      <td>-0.80</td>\n",
       "      <td>1</td>\n",
       "      <td>327.75</td>\n",
       "      <td>311.359985</td>\n",
       "      <td>-249.089996</td>\n",
       "      <td>South Asia</td>\n",
       "      <td>Rajastán</td>\n",
       "      <td>PENDING</td>\n",
       "      <td>NaN</td>\n",
       "      <td>1360</td>\n",
       "      <td>73</td>\n",
       "      <td>NaN</td>\n",
       "      <td>http://images.acmesports.sports/Smart+watch</td>\n",
       "      <td>Smart watch</td>\n",
       "      <td>327.75</td>\n",
       "      <td>0</td>\n",
       "      <td>1/18/2018 12:27</td>\n",
       "      <td>Standard Class</td>\n",
       "    </tr>\n",
       "    <tr>\n",
       "      <th>2</th>\n",
       "      <td>CASH</td>\n",
       "      <td>4</td>\n",
       "      <td>4</td>\n",
       "      <td>-247.779999</td>\n",
       "      <td>309.720001</td>\n",
       "      <td>Shipping on time</td>\n",
       "      <td>0</td>\n",
       "      <td>73</td>\n",
       "      <td>Sporting Goods</td>\n",
       "      <td>San Jose</td>\n",
       "      <td>EE. UU.</td>\n",
       "      <td>XXXXXXXXX</td>\n",
       "      <td>Gillian</td>\n",
       "      <td>19491</td>\n",
       "      <td>Maldonado</td>\n",
       "      <td>XXXXXXXXX</td>\n",
       "      <td>Consumer</td>\n",
       "      <td>CA</td>\n",
       "      <td>8510 Round Bear Gate</td>\n",
       "      <td>95125.0</td>\n",
       "      <td>2</td>\n",
       "      <td>Fitness</td>\n",
       "      <td>37.292233</td>\n",
       "      <td>-121.881279</td>\n",
       "      <td>Pacific Asia</td>\n",
       "      <td>Bikaner</td>\n",
       "      <td>India</td>\n",
       "      <td>19491</td>\n",
       "      <td>1/13/2018 12:06</td>\n",
       "      <td>75938</td>\n",
       "      <td>1360</td>\n",
       "      <td>18.030001</td>\n",
       "      <td>0.06</td>\n",
       "      <td>179253</td>\n",
       "      <td>327.75</td>\n",
       "      <td>-0.80</td>\n",
       "      <td>1</td>\n",
       "      <td>327.75</td>\n",
       "      <td>309.720001</td>\n",
       "      <td>-247.779999</td>\n",
       "      <td>South Asia</td>\n",
       "      <td>Rajastán</td>\n",
       "      <td>CLOSED</td>\n",
       "      <td>NaN</td>\n",
       "      <td>1360</td>\n",
       "      <td>73</td>\n",
       "      <td>NaN</td>\n",
       "      <td>http://images.acmesports.sports/Smart+watch</td>\n",
       "      <td>Smart watch</td>\n",
       "      <td>327.75</td>\n",
       "      <td>0</td>\n",
       "      <td>1/17/2018 12:06</td>\n",
       "      <td>Standard Class</td>\n",
       "    </tr>\n",
       "    <tr>\n",
       "      <th>3</th>\n",
       "      <td>DEBIT</td>\n",
       "      <td>3</td>\n",
       "      <td>4</td>\n",
       "      <td>22.860001</td>\n",
       "      <td>304.809998</td>\n",
       "      <td>Advance shipping</td>\n",
       "      <td>0</td>\n",
       "      <td>73</td>\n",
       "      <td>Sporting Goods</td>\n",
       "      <td>Los Angeles</td>\n",
       "      <td>EE. UU.</td>\n",
       "      <td>XXXXXXXXX</td>\n",
       "      <td>Tana</td>\n",
       "      <td>19490</td>\n",
       "      <td>Tate</td>\n",
       "      <td>XXXXXXXXX</td>\n",
       "      <td>Home Office</td>\n",
       "      <td>CA</td>\n",
       "      <td>3200 Amber Bend</td>\n",
       "      <td>90027.0</td>\n",
       "      <td>2</td>\n",
       "      <td>Fitness</td>\n",
       "      <td>34.125946</td>\n",
       "      <td>-118.291016</td>\n",
       "      <td>Pacific Asia</td>\n",
       "      <td>Townsville</td>\n",
       "      <td>Australia</td>\n",
       "      <td>19490</td>\n",
       "      <td>1/13/2018 11:45</td>\n",
       "      <td>75937</td>\n",
       "      <td>1360</td>\n",
       "      <td>22.940001</td>\n",
       "      <td>0.07</td>\n",
       "      <td>179252</td>\n",
       "      <td>327.75</td>\n",
       "      <td>0.08</td>\n",
       "      <td>1</td>\n",
       "      <td>327.75</td>\n",
       "      <td>304.809998</td>\n",
       "      <td>22.860001</td>\n",
       "      <td>Oceania</td>\n",
       "      <td>Queensland</td>\n",
       "      <td>COMPLETE</td>\n",
       "      <td>NaN</td>\n",
       "      <td>1360</td>\n",
       "      <td>73</td>\n",
       "      <td>NaN</td>\n",
       "      <td>http://images.acmesports.sports/Smart+watch</td>\n",
       "      <td>Smart watch</td>\n",
       "      <td>327.75</td>\n",
       "      <td>0</td>\n",
       "      <td>1/16/2018 11:45</td>\n",
       "      <td>Standard Class</td>\n",
       "    </tr>\n",
       "    <tr>\n",
       "      <th>4</th>\n",
       "      <td>PAYMENT</td>\n",
       "      <td>2</td>\n",
       "      <td>4</td>\n",
       "      <td>134.210007</td>\n",
       "      <td>298.250000</td>\n",
       "      <td>Advance shipping</td>\n",
       "      <td>0</td>\n",
       "      <td>73</td>\n",
       "      <td>Sporting Goods</td>\n",
       "      <td>Caguas</td>\n",
       "      <td>Puerto Rico</td>\n",
       "      <td>XXXXXXXXX</td>\n",
       "      <td>Orli</td>\n",
       "      <td>19489</td>\n",
       "      <td>Hendricks</td>\n",
       "      <td>XXXXXXXXX</td>\n",
       "      <td>Corporate</td>\n",
       "      <td>PR</td>\n",
       "      <td>8671 Iron Anchor Corners</td>\n",
       "      <td>725.0</td>\n",
       "      <td>2</td>\n",
       "      <td>Fitness</td>\n",
       "      <td>18.253769</td>\n",
       "      <td>-66.037048</td>\n",
       "      <td>Pacific Asia</td>\n",
       "      <td>Townsville</td>\n",
       "      <td>Australia</td>\n",
       "      <td>19489</td>\n",
       "      <td>1/13/2018 11:24</td>\n",
       "      <td>75936</td>\n",
       "      <td>1360</td>\n",
       "      <td>29.500000</td>\n",
       "      <td>0.09</td>\n",
       "      <td>179251</td>\n",
       "      <td>327.75</td>\n",
       "      <td>0.45</td>\n",
       "      <td>1</td>\n",
       "      <td>327.75</td>\n",
       "      <td>298.250000</td>\n",
       "      <td>134.210007</td>\n",
       "      <td>Oceania</td>\n",
       "      <td>Queensland</td>\n",
       "      <td>PENDING_PAYMENT</td>\n",
       "      <td>NaN</td>\n",
       "      <td>1360</td>\n",
       "      <td>73</td>\n",
       "      <td>NaN</td>\n",
       "      <td>http://images.acmesports.sports/Smart+watch</td>\n",
       "      <td>Smart watch</td>\n",
       "      <td>327.75</td>\n",
       "      <td>0</td>\n",
       "      <td>1/15/2018 11:24</td>\n",
       "      <td>Standard Class</td>\n",
       "    </tr>\n",
       "  </tbody>\n",
       "</table>\n",
       "</div>"
      ],
      "text/plain": [
       "       Type  Days for shipping (real)  Days for shipment (scheduled)  \\\n",
       "0     DEBIT                         3                              4   \n",
       "1  TRANSFER                         5                              4   \n",
       "2      CASH                         4                              4   \n",
       "3     DEBIT                         3                              4   \n",
       "4   PAYMENT                         2                              4   \n",
       "\n",
       "   Benefit per order  Sales per customer   Delivery Status  \\\n",
       "0          91.250000          314.640015  Advance shipping   \n",
       "1        -249.089996          311.359985     Late delivery   \n",
       "2        -247.779999          309.720001  Shipping on time   \n",
       "3          22.860001          304.809998  Advance shipping   \n",
       "4         134.210007          298.250000  Advance shipping   \n",
       "\n",
       "   Late_delivery_risk  Category Id   Category Name Customer City  \\\n",
       "0                   0           73  Sporting Goods        Caguas   \n",
       "1                   1           73  Sporting Goods        Caguas   \n",
       "2                   0           73  Sporting Goods      San Jose   \n",
       "3                   0           73  Sporting Goods   Los Angeles   \n",
       "4                   0           73  Sporting Goods        Caguas   \n",
       "\n",
       "  Customer Country Customer Email Customer Fname  Customer Id Customer Lname  \\\n",
       "0      Puerto Rico      XXXXXXXXX          Cally        20755       Holloway   \n",
       "1      Puerto Rico      XXXXXXXXX          Irene        19492           Luna   \n",
       "2          EE. UU.      XXXXXXXXX        Gillian        19491      Maldonado   \n",
       "3          EE. UU.      XXXXXXXXX           Tana        19490           Tate   \n",
       "4      Puerto Rico      XXXXXXXXX           Orli        19489      Hendricks   \n",
       "\n",
       "  Customer Password Customer Segment Customer State           Customer Street  \\\n",
       "0         XXXXXXXXX         Consumer             PR  5365 Noble Nectar Island   \n",
       "1         XXXXXXXXX         Consumer             PR          2679 Rustic Loop   \n",
       "2         XXXXXXXXX         Consumer             CA      8510 Round Bear Gate   \n",
       "3         XXXXXXXXX      Home Office             CA           3200 Amber Bend   \n",
       "4         XXXXXXXXX        Corporate             PR  8671 Iron Anchor Corners   \n",
       "\n",
       "   Customer Zipcode  Department Id Department Name   Latitude   Longitude  \\\n",
       "0             725.0              2         Fitness  18.251453  -66.037056   \n",
       "1             725.0              2         Fitness  18.279451  -66.037064   \n",
       "2           95125.0              2         Fitness  37.292233 -121.881279   \n",
       "3           90027.0              2         Fitness  34.125946 -118.291016   \n",
       "4             725.0              2         Fitness  18.253769  -66.037048   \n",
       "\n",
       "         Market  Order City Order Country  Order Customer Id  \\\n",
       "0  Pacific Asia      Bekasi     Indonesia              20755   \n",
       "1  Pacific Asia     Bikaner         India              19492   \n",
       "2  Pacific Asia     Bikaner         India              19491   \n",
       "3  Pacific Asia  Townsville     Australia              19490   \n",
       "4  Pacific Asia  Townsville     Australia              19489   \n",
       "\n",
       "  order date (DateOrders)  Order Id  Order Item Cardprod Id  \\\n",
       "0         1/31/2018 22:56     77202                    1360   \n",
       "1         1/13/2018 12:27     75939                    1360   \n",
       "2         1/13/2018 12:06     75938                    1360   \n",
       "3         1/13/2018 11:45     75937                    1360   \n",
       "4         1/13/2018 11:24     75936                    1360   \n",
       "\n",
       "   Order Item Discount  Order Item Discount Rate  Order Item Id  \\\n",
       "0            13.110000                      0.04         180517   \n",
       "1            16.389999                      0.05         179254   \n",
       "2            18.030001                      0.06         179253   \n",
       "3            22.940001                      0.07         179252   \n",
       "4            29.500000                      0.09         179251   \n",
       "\n",
       "   Order Item Product Price  Order Item Profit Ratio  Order Item Quantity  \\\n",
       "0                    327.75                     0.29                    1   \n",
       "1                    327.75                    -0.80                    1   \n",
       "2                    327.75                    -0.80                    1   \n",
       "3                    327.75                     0.08                    1   \n",
       "4                    327.75                     0.45                    1   \n",
       "\n",
       "    Sales  Order Item Total  Order Profit Per Order    Order Region  \\\n",
       "0  327.75        314.640015               91.250000  Southeast Asia   \n",
       "1  327.75        311.359985             -249.089996      South Asia   \n",
       "2  327.75        309.720001             -247.779999      South Asia   \n",
       "3  327.75        304.809998               22.860001         Oceania   \n",
       "4  327.75        298.250000              134.210007         Oceania   \n",
       "\n",
       "       Order State     Order Status  Order Zipcode  Product Card Id  \\\n",
       "0  Java Occidental         COMPLETE            NaN             1360   \n",
       "1         Rajastán          PENDING            NaN             1360   \n",
       "2         Rajastán           CLOSED            NaN             1360   \n",
       "3       Queensland         COMPLETE            NaN             1360   \n",
       "4       Queensland  PENDING_PAYMENT            NaN             1360   \n",
       "\n",
       "   Product Category Id  Product Description  \\\n",
       "0                   73                  NaN   \n",
       "1                   73                  NaN   \n",
       "2                   73                  NaN   \n",
       "3                   73                  NaN   \n",
       "4                   73                  NaN   \n",
       "\n",
       "                                  Product Image  Product Name  Product Price  \\\n",
       "0  http://images.acmesports.sports/Smart+watch   Smart watch          327.75   \n",
       "1  http://images.acmesports.sports/Smart+watch   Smart watch          327.75   \n",
       "2  http://images.acmesports.sports/Smart+watch   Smart watch          327.75   \n",
       "3  http://images.acmesports.sports/Smart+watch   Smart watch          327.75   \n",
       "4  http://images.acmesports.sports/Smart+watch   Smart watch          327.75   \n",
       "\n",
       "   Product Status shipping date (DateOrders)   Shipping Mode  \n",
       "0               0             2/3/2018 22:56  Standard Class  \n",
       "1               0            1/18/2018 12:27  Standard Class  \n",
       "2               0            1/17/2018 12:06  Standard Class  \n",
       "3               0            1/16/2018 11:45  Standard Class  \n",
       "4               0            1/15/2018 11:24  Standard Class  "
      ]
     },
     "execution_count": 4,
     "metadata": {},
     "output_type": "execute_result"
    }
   ],
   "source": [
    "df.head()"
   ]
  },
  {
   "cell_type": "markdown",
   "metadata": {},
   "source": [
    "### a) DAYS OF SHIPPING"
   ]
  },
  {
   "cell_type": "markdown",
   "metadata": {},
   "source": [
    "##### Min/Max days for shipping (scheduled):"
   ]
  },
  {
   "cell_type": "code",
   "execution_count": 12,
   "metadata": {},
   "outputs": [
    {
     "data": {
      "text/plain": [
       "0"
      ]
     },
     "execution_count": 12,
     "metadata": {},
     "output_type": "execute_result"
    }
   ],
   "source": [
    "df['Days for shipment (scheduled)'].min()"
   ]
  },
  {
   "cell_type": "code",
   "execution_count": 13,
   "metadata": {},
   "outputs": [
    {
     "data": {
      "text/plain": [
       "4"
      ]
     },
     "execution_count": 13,
     "metadata": {},
     "output_type": "execute_result"
    }
   ],
   "source": [
    "df['Days for shipment (scheduled)'].max()"
   ]
  },
  {
   "cell_type": "code",
   "execution_count": 14,
   "metadata": {},
   "outputs": [
    {
     "data": {
      "text/plain": [
       "<AxesSubplot:ylabel='Days for shipment (scheduled)'>"
      ]
     },
     "execution_count": 14,
     "metadata": {},
     "output_type": "execute_result"
    },
    {
     "data": {
      "image/png": "[encoded data removed]",
      "text/plain": [
       "<Figure size 432x288 with 1 Axes>"
      ]
     },
     "metadata": {
      "needs_background": "light"
     },
     "output_type": "display_data"
    }
   ],
   "source": [
    "sns.boxplot( y=df['Days for shipment (scheduled)'])"
   ]
  },
  {
   "cell_type": "markdown",
   "metadata": {},
   "source": [
    "##### Min/Max days for shipping (real):"
   ]
  },
  {
   "cell_type": "code",
   "execution_count": 15,
   "metadata": {},
   "outputs": [
    {
     "data": {
      "text/plain": [
       "0"
      ]
     },
     "execution_count": 15,
     "metadata": {},
     "output_type": "execute_result"
    }
   ],
   "source": [
    "df['Days for shipping (real)'].min()"
   ]
  },
  {
   "cell_type": "code",
   "execution_count": 16,
   "metadata": {
    "scrolled": false
   },
   "outputs": [
    {
     "data": {
      "text/plain": [
       "6"
      ]
     },
     "execution_count": 16,
     "metadata": {},
     "output_type": "execute_result"
    }
   ],
   "source": [
    "df['Days for shipping (real)'].max()"
   ]
  },
  {
   "cell_type": "code",
   "execution_count": 17,
   "metadata": {
    "scrolled": false
   },
   "outputs": [
    {
     "data": {
      "text/plain": [
       "<AxesSubplot:ylabel='Days for shipping (real)'>"
      ]
     },
     "execution_count": 17,
     "metadata": {},
     "output_type": "execute_result"
    },
    {
     "data": {
      "image/png": "[encoded data removed]",
      "text/plain": [
       "<Figure size 432x288 with 1 Axes>"
      ]
     },
     "metadata": {
      "needs_background": "light"
     },
     "output_type": "display_data"
    }
   ],
   "source": [
    "sns.boxplot( y=df['Days for shipping (real)'])"
   ]
  },
  {
   "cell_type": "code",
   "execution_count": 24,
   "metadata": {},
   "outputs": [
    {
     "data": {
      "text/plain": [
       "Text(0.5, 1.0, 'Min/Max days for shipment - Real vs. Scheduled')"
      ]
     },
     "execution_count": 24,
     "metadata": {},
     "output_type": "execute_result"
    },
    {
     "data": {
      "image/png": "[encoded data removed]",
      "text/plain": [
       "<Figure size 432x288 with 1 Axes>"
      ]
     },
     "metadata": {
      "needs_background": "light"
     },
     "output_type": "display_data"
    }
   ],
   "source": [
    "df_shipmentdays = df[['Days for shipment (scheduled)','Days for shipping (real)']]\n",
    "sns.boxplot( data=df_shipmentdays)\n",
    "plt.title('Min/Max days for shipment - Real vs. Scheduled')"
   ]
  },
  {
   "cell_type": "markdown",
   "metadata": {},
   "source": [
    "##### Analize the differences between the schedule shipping and the real shipping:"
   ]
  },
  {
   "cell_type": "markdown",
   "metadata": {},
   "source": [
    "##### Which is the standard deviation of each shipment?"
   ]
  },
  {
   "cell_type": "code",
   "execution_count": 3,
   "metadata": {},
   "outputs": [
    {
     "data": {
      "text/plain": [
       "Days for shipping (real)         1.623722\n",
       "Days for shipment (scheduled)    1.374449\n",
       "dtype: float64"
      ]
     },
     "execution_count": 3,
     "metadata": {},
     "output_type": "execute_result"
    }
   ],
   "source": [
    "df[['Days for shipping (real)','Days for shipment (scheduled)']].std()"
   ]
  },
  {
   "cell_type": "markdown",
   "metadata": {},
   "source": [
    "##### Is the shipping usually underforecast or overforecast?"
   ]
  },
  {
   "cell_type": "code",
   "execution_count": 7,
   "metadata": {},
   "outputs": [
    {
     "data": {
      "text/plain": [
       "0.5658074773292562"
      ]
     },
     "execution_count": 7,
     "metadata": {},
     "output_type": "execute_result"
    }
   ],
   "source": [
    "# Mean Bias Error / Mean Deviation\n",
    "\n",
    "def mean_bias_error(true, pred):\n",
    "    bias_error = true - pred\n",
    "    mbe_loss = np.mean(np.sum(bias_error) / true.size)\n",
    "    return mbe_loss\n",
    "\n",
    "mean_bias_error(df['Days for shipping (real)'],df['Days for shipment (scheduled)'])\n"
   ]
  },
  {
   "cell_type": "markdown",
   "metadata": {},
   "source": [
    "Note: A positive bias means the error from the data is overestimated."
   ]
  },
  {
   "cell_type": "markdown",
   "metadata": {},
   "source": [
    "##### Metrics of performance (Predictive Model):\n",
    "\n",
    "To asses the performance of the predictive forecast we will obtain some metrics that evaluate the performance of the model."
   ]
  },
  {
   "cell_type": "code",
   "execution_count": 4,
   "metadata": {},
   "outputs": [
    {
     "data": {
      "text/plain": [
       "1.2863078124740333"
      ]
     },
     "execution_count": 4,
     "metadata": {},
     "output_type": "execute_result"
    }
   ],
   "source": [
    "# MAD / MAE - mean_absolute_error(true, predicted)\n",
    "\n",
    "from sklearn.metrics import mean_absolute_error\n",
    "\n",
    "mean_absolute_error(df['Days for shipping (real)'],df['Days for shipment (scheduled)'])"
   ]
  },
  {
   "cell_type": "code",
   "execution_count": 6,
   "metadata": {},
   "outputs": [
    {
     "data": {
      "text/plain": [
       "0.4080608320084497"
      ]
     },
     "execution_count": 6,
     "metadata": {},
     "output_type": "execute_result"
    }
   ],
   "source": [
    "# MAPE - mean_absolute_percentage_error(true, predicted)\n",
    "\n",
    "from sklearn.metrics import mean_absolute_percentage_error\n",
    "\n",
    "mean_absolute_percentage_error(df['Days for shipping (real)'],df['Days for shipment (scheduled)'])"
   ]
  },
  {
   "cell_type": "code",
   "execution_count": 5,
   "metadata": {},
   "outputs": [
    {
     "data": {
      "text/plain": [
       "2.543106265822434"
      ]
     },
     "execution_count": 5,
     "metadata": {},
     "output_type": "execute_result"
    }
   ],
   "source": [
    "# MSE - mean_squarred_error(true, predicted)\n",
    "\n",
    "from sklearn.metrics import mean_squared_error\n",
    "\n",
    "mean_squared_error(df['Days for shipping (real)'],df['Days for shipment (scheduled)'])"
   ]
  },
  {
   "cell_type": "code",
   "execution_count": 5,
   "metadata": {},
   "outputs": [
    {
     "data": {
      "text/plain": [
       "1.5947119695488694"
      ]
     },
     "execution_count": 5,
     "metadata": {},
     "output_type": "execute_result"
    }
   ],
   "source": [
    "# RMSE - (Root) mean_squarred_error(true, predicted)\n",
    "\n",
    "from sklearn.metrics import mean_squared_error\n",
    "\n",
    "mean_squared_error(df['Days for shipping (real)'],df['Days for shipment (scheduled)'], squared=False)"
   ]
  },
  {
   "cell_type": "markdown",
   "metadata": {},
   "source": [
    "### b) DELIVERY STATUS"
   ]
  },
  {
   "cell_type": "markdown",
   "metadata": {},
   "source": [
    "##### How is the Delivery Status today?"
   ]
  },
  {
   "cell_type": "code",
   "execution_count": 412,
   "metadata": {
    "scrolled": true
   },
   "outputs": [
    {
     "data": {
      "text/plain": [
       "Delivery Status\n",
       "Late delivery        98977\n",
       "Advance shipping     41592\n",
       "Shipping on time     32196\n",
       "Shipping canceled     7754\n",
       "dtype: int64"
      ]
     },
     "execution_count": 412,
     "metadata": {},
     "output_type": "execute_result"
    }
   ],
   "source": [
    "df.groupby('Delivery Status').size().sort_values(ascending=False)"
   ]
  },
  {
   "cell_type": "markdown",
   "metadata": {},
   "source": [
    "##### What is the percentage of canceled shipments?"
   ]
  },
  {
   "cell_type": "code",
   "execution_count": 413,
   "metadata": {
    "scrolled": true
   },
   "outputs": [
    {
     "data": {
      "text/plain": [
       "4.3"
      ]
     },
     "execution_count": 413,
     "metadata": {},
     "output_type": "execute_result"
    }
   ],
   "source": [
    "round(((df.groupby('Delivery Status').size()['Shipping canceled'])*100)/len(df),2)"
   ]
  },
  {
   "cell_type": "markdown",
   "metadata": {},
   "source": [
    "##### Are the canceled shipments related to a certain product?"
   ]
  },
  {
   "cell_type": "code",
   "execution_count": 34,
   "metadata": {
    "scrolled": true
   },
   "outputs": [
    {
     "data": {
      "text/html": [
       "<div>\n",
       "<style scoped>\n",
       "    .dataframe tbody tr th:only-of-type {\n",
       "        vertical-align: middle;\n",
       "    }\n",
       "\n",
       "    .dataframe tbody tr th {\n",
       "        vertical-align: top;\n",
       "    }\n",
       "\n",
       "    .dataframe thead th {\n",
       "        text-align: right;\n",
       "    }\n",
       "</style>\n",
       "<table border=\"1\" class=\"dataframe\">\n",
       "  <thead>\n",
       "    <tr style=\"text-align: right;\">\n",
       "      <th></th>\n",
       "      <th>Product Name</th>\n",
       "      <th>Percentage</th>\n",
       "    </tr>\n",
       "  </thead>\n",
       "  <tbody>\n",
       "    <tr>\n",
       "      <th>Perfect Fitness Perfect Rip Deck</th>\n",
       "      <td>1037</td>\n",
       "      <td>13.373743</td>\n",
       "    </tr>\n",
       "    <tr>\n",
       "      <th>Nike Men's CJ Elite 2 TD Football Cleat</th>\n",
       "      <td>983</td>\n",
       "      <td>12.677328</td>\n",
       "    </tr>\n",
       "    <tr>\n",
       "      <th>Nike Men's Dri-FIT Victory Golf Polo</th>\n",
       "      <td>919</td>\n",
       "      <td>11.851947</td>\n",
       "    </tr>\n",
       "    <tr>\n",
       "      <th>O'Brien Men's Neoprene Life Vest</th>\n",
       "      <td>828</td>\n",
       "      <td>10.678360</td>\n",
       "    </tr>\n",
       "    <tr>\n",
       "      <th>Field &amp; Stream Sportsman 16 Gun Fire Safe</th>\n",
       "      <td>730</td>\n",
       "      <td>9.414496</td>\n",
       "    </tr>\n",
       "    <tr>\n",
       "      <th>Pelican Sunstream 100 Kayak</th>\n",
       "      <td>660</td>\n",
       "      <td>8.511736</td>\n",
       "    </tr>\n",
       "    <tr>\n",
       "      <th>Diamondback Women's Serene Classic Comfort Bi</th>\n",
       "      <td>572</td>\n",
       "      <td>7.376838</td>\n",
       "    </tr>\n",
       "    <tr>\n",
       "      <th>Nike Men's Free 5.0+ Running Shoe</th>\n",
       "      <td>523</td>\n",
       "      <td>6.744906</td>\n",
       "    </tr>\n",
       "    <tr>\n",
       "      <th>Under Armour Girls' Toddler Spine Surge Runni</th>\n",
       "      <td>453</td>\n",
       "      <td>5.842146</td>\n",
       "    </tr>\n",
       "    <tr>\n",
       "      <th>Fighting video games</th>\n",
       "      <td>34</td>\n",
       "      <td>0.438483</td>\n",
       "    </tr>\n",
       "  </tbody>\n",
       "</table>\n",
       "</div>"
      ],
      "text/plain": [
       "                                               Product Name  Percentage\n",
       "Perfect Fitness Perfect Rip Deck                       1037   13.373743\n",
       "Nike Men's CJ Elite 2 TD Football Cleat                 983   12.677328\n",
       "Nike Men's Dri-FIT Victory Golf Polo                    919   11.851947\n",
       "O'Brien Men's Neoprene Life Vest                        828   10.678360\n",
       "Field & Stream Sportsman 16 Gun Fire Safe               730    9.414496\n",
       "Pelican Sunstream 100 Kayak                             660    8.511736\n",
       "Diamondback Women's Serene Classic Comfort Bi           572    7.376838\n",
       "Nike Men's Free 5.0+ Running Shoe                       523    6.744906\n",
       "Under Armour Girls' Toddler Spine Surge Runni           453    5.842146\n",
       "Fighting video games                                     34    0.438483"
      ]
     },
     "execution_count": 34,
     "metadata": {},
     "output_type": "execute_result"
    }
   ],
   "source": [
    "df_canceled = df[df['Delivery Status'] == 'Shipping canceled']['Product Name'].value_counts().to_frame()\n",
    "df_canceled['Percentage'] = df_canceled['Product Name'] * 100 / df_canceled['Product Name'].sum()\n",
    "df_canceled.head(10)"
   ]
  },
  {
   "cell_type": "markdown",
   "metadata": {},
   "source": [
    "### c) LATE DELIVERY RISK"
   ]
  },
  {
   "cell_type": "markdown",
   "metadata": {},
   "source": [
    "##### How many orders have late delivery risk? (1 = late delivery risk, 0 = no late delivery risk)"
   ]
  },
  {
   "cell_type": "code",
   "execution_count": 37,
   "metadata": {
    "scrolled": true
   },
   "outputs": [
    {
     "data": {
      "text/html": [
       "<div>\n",
       "<style scoped>\n",
       "    .dataframe tbody tr th:only-of-type {\n",
       "        vertical-align: middle;\n",
       "    }\n",
       "\n",
       "    .dataframe tbody tr th {\n",
       "        vertical-align: top;\n",
       "    }\n",
       "\n",
       "    .dataframe thead th {\n",
       "        text-align: right;\n",
       "    }\n",
       "</style>\n",
       "<table border=\"1\" class=\"dataframe\">\n",
       "  <thead>\n",
       "    <tr style=\"text-align: right;\">\n",
       "      <th></th>\n",
       "      <th>Late_delivery_risk</th>\n",
       "      <th>Percentage</th>\n",
       "    </tr>\n",
       "  </thead>\n",
       "  <tbody>\n",
       "    <tr>\n",
       "      <th>1</th>\n",
       "      <td>98977</td>\n",
       "      <td>54.83</td>\n",
       "    </tr>\n",
       "    <tr>\n",
       "      <th>0</th>\n",
       "      <td>81542</td>\n",
       "      <td>45.17</td>\n",
       "    </tr>\n",
       "  </tbody>\n",
       "</table>\n",
       "</div>"
      ],
      "text/plain": [
       "   Late_delivery_risk  Percentage\n",
       "1               98977       54.83\n",
       "0               81542       45.17"
      ]
     },
     "execution_count": 37,
     "metadata": {},
     "output_type": "execute_result"
    }
   ],
   "source": [
    "# 1 is late delivery risk\n",
    "df_laterisk = df['Late_delivery_risk'].value_counts().to_frame()\n",
    "df_laterisk['Percentage'] = round(df_laterisk['Late_delivery_risk'] * 100 / df_laterisk['Late_delivery_risk'].sum(),2)\n",
    "df_laterisk"
   ]
  },
  {
   "cell_type": "markdown",
   "metadata": {},
   "source": [
    "##### Is the late delivery risk related to a certain market?"
   ]
  },
  {
   "cell_type": "code",
   "execution_count": 283,
   "metadata": {
    "scrolled": true
   },
   "outputs": [
    {
     "data": {
      "text/html": [
       "<div>\n",
       "<style scoped>\n",
       "    .dataframe tbody tr th:only-of-type {\n",
       "        vertical-align: middle;\n",
       "    }\n",
       "\n",
       "    .dataframe tbody tr th {\n",
       "        vertical-align: top;\n",
       "    }\n",
       "\n",
       "    .dataframe thead th {\n",
       "        text-align: right;\n",
       "    }\n",
       "</style>\n",
       "<table border=\"1\" class=\"dataframe\">\n",
       "  <thead>\n",
       "    <tr style=\"text-align: right;\">\n",
       "      <th></th>\n",
       "      <th></th>\n",
       "      <th>Total Orders</th>\n",
       "      <th>Percent</th>\n",
       "    </tr>\n",
       "    <tr>\n",
       "      <th>Market</th>\n",
       "      <th>Late_delivery_risk</th>\n",
       "      <th></th>\n",
       "      <th></th>\n",
       "    </tr>\n",
       "  </thead>\n",
       "  <tbody>\n",
       "    <tr>\n",
       "      <th rowspan=\"2\" valign=\"top\">Africa</th>\n",
       "      <th>0</th>\n",
       "      <td>5274</td>\n",
       "      <td>45.41</td>\n",
       "    </tr>\n",
       "    <tr>\n",
       "      <th>1</th>\n",
       "      <td>6340</td>\n",
       "      <td>54.59</td>\n",
       "    </tr>\n",
       "    <tr>\n",
       "      <th rowspan=\"2\" valign=\"top\">Europe</th>\n",
       "      <th>0</th>\n",
       "      <td>22509</td>\n",
       "      <td>44.79</td>\n",
       "    </tr>\n",
       "    <tr>\n",
       "      <th>1</th>\n",
       "      <td>27743</td>\n",
       "      <td>55.21</td>\n",
       "    </tr>\n",
       "    <tr>\n",
       "      <th rowspan=\"2\" valign=\"top\">LATAM</th>\n",
       "      <th>0</th>\n",
       "      <td>23550</td>\n",
       "      <td>45.64</td>\n",
       "    </tr>\n",
       "    <tr>\n",
       "      <th>1</th>\n",
       "      <td>28044</td>\n",
       "      <td>54.36</td>\n",
       "    </tr>\n",
       "    <tr>\n",
       "      <th rowspan=\"2\" valign=\"top\">Pacific Asia</th>\n",
       "      <th>0</th>\n",
       "      <td>18548</td>\n",
       "      <td>44.95</td>\n",
       "    </tr>\n",
       "    <tr>\n",
       "      <th>1</th>\n",
       "      <td>22712</td>\n",
       "      <td>55.05</td>\n",
       "    </tr>\n",
       "    <tr>\n",
       "      <th rowspan=\"2\" valign=\"top\">USCA</th>\n",
       "      <th>0</th>\n",
       "      <td>11661</td>\n",
       "      <td>45.20</td>\n",
       "    </tr>\n",
       "    <tr>\n",
       "      <th>1</th>\n",
       "      <td>14138</td>\n",
       "      <td>54.80</td>\n",
       "    </tr>\n",
       "  </tbody>\n",
       "</table>\n",
       "</div>"
      ],
      "text/plain": [
       "                                 Total Orders  Percent\n",
       "Market       Late_delivery_risk                       \n",
       "Africa       0                           5274    45.41\n",
       "             1                           6340    54.59\n",
       "Europe       0                          22509    44.79\n",
       "             1                          27743    55.21\n",
       "LATAM        0                          23550    45.64\n",
       "             1                          28044    54.36\n",
       "Pacific Asia 0                          18548    44.95\n",
       "             1                          22712    55.05\n",
       "USCA         0                          11661    45.20\n",
       "             1                          14138    54.80"
      ]
     },
     "execution_count": 283,
     "metadata": {},
     "output_type": "execute_result"
    }
   ],
   "source": [
    "# 1 is late delivery risk\n",
    "df_lateriskmark = df.groupby(['Market','Late_delivery_risk']).size().to_frame(name='Total Orders')\n",
    "df_lateriskmark['Percent'] = df_lateriskmark.groupby(level=0).transform(lambda x: (x *100 / x.sum()).round(2))\n",
    "df_lateriskmark"
   ]
  },
  {
   "cell_type": "markdown",
   "metadata": {},
   "source": [
    "##### Is the late delivery risk related to a certain product?"
   ]
  },
  {
   "cell_type": "code",
   "execution_count": 289,
   "metadata": {
    "scrolled": true
   },
   "outputs": [
    {
     "data": {
      "text/html": [
       "<div>\n",
       "<style scoped>\n",
       "    .dataframe tbody tr th:only-of-type {\n",
       "        vertical-align: middle;\n",
       "    }\n",
       "\n",
       "    .dataframe tbody tr th {\n",
       "        vertical-align: top;\n",
       "    }\n",
       "\n",
       "    .dataframe thead th {\n",
       "        text-align: right;\n",
       "    }\n",
       "</style>\n",
       "<table border=\"1\" class=\"dataframe\">\n",
       "  <thead>\n",
       "    <tr style=\"text-align: right;\">\n",
       "      <th></th>\n",
       "      <th></th>\n",
       "      <th>Total Orders</th>\n",
       "      <th>Percent</th>\n",
       "    </tr>\n",
       "    <tr>\n",
       "      <th>Product Name</th>\n",
       "      <th>Late_delivery_risk</th>\n",
       "      <th></th>\n",
       "      <th></th>\n",
       "    </tr>\n",
       "  </thead>\n",
       "  <tbody>\n",
       "    <tr>\n",
       "      <th>SOLE E25 Elliptical</th>\n",
       "      <th>1</th>\n",
       "      <td>7</td>\n",
       "      <td>70.00</td>\n",
       "    </tr>\n",
       "    <tr>\n",
       "      <th>Ogio Race Golf Shoes</th>\n",
       "      <th>1</th>\n",
       "      <td>42</td>\n",
       "      <td>68.85</td>\n",
       "    </tr>\n",
       "    <tr>\n",
       "      <th>GoPro HERO3+ Black Edition Camera</th>\n",
       "      <th>1</th>\n",
       "      <td>21</td>\n",
       "      <td>65.62</td>\n",
       "    </tr>\n",
       "    <tr>\n",
       "      <th>Total Gym 1400</th>\n",
       "      <th>1</th>\n",
       "      <td>23</td>\n",
       "      <td>63.89</td>\n",
       "    </tr>\n",
       "    <tr>\n",
       "      <th>Titleist Small Wheeled Travel Cover</th>\n",
       "      <th>1</th>\n",
       "      <td>34</td>\n",
       "      <td>62.96</td>\n",
       "    </tr>\n",
       "    <tr>\n",
       "      <th>Team Golf St. Louis Cardinals Putter Grip</th>\n",
       "      <th>1</th>\n",
       "      <td>197</td>\n",
       "      <td>62.94</td>\n",
       "    </tr>\n",
       "    <tr>\n",
       "      <th>Pelican Maverick 100X Kayak</th>\n",
       "      <th>1</th>\n",
       "      <td>25</td>\n",
       "      <td>62.50</td>\n",
       "    </tr>\n",
       "    <tr>\n",
       "      <th>Diamondback Boys' Insight 24 Performance Hybr</th>\n",
       "      <th>1</th>\n",
       "      <td>18</td>\n",
       "      <td>62.07</td>\n",
       "    </tr>\n",
       "    <tr>\n",
       "      <th>Titleist Club Glove Travel Cover</th>\n",
       "      <th>1</th>\n",
       "      <td>21</td>\n",
       "      <td>61.76</td>\n",
       "    </tr>\n",
       "    <tr>\n",
       "      <th>Hirzl Women's Soffft Flex Golf Glove</th>\n",
       "      <th>1</th>\n",
       "      <td>183</td>\n",
       "      <td>61.41</td>\n",
       "    </tr>\n",
       "    <tr>\n",
       "      <th>Mio ALPHA Heart Rate Monitor/Sport Watch</th>\n",
       "      <th>1</th>\n",
       "      <td>41</td>\n",
       "      <td>61.19</td>\n",
       "    </tr>\n",
       "    <tr>\n",
       "      <th>Garmin Approach S3 Golf GPS Watch</th>\n",
       "      <th>1</th>\n",
       "      <td>47</td>\n",
       "      <td>61.04</td>\n",
       "    </tr>\n",
       "    <tr>\n",
       "      <th>adidas Men's Germany Black Crest Away Tee</th>\n",
       "      <th>1</th>\n",
       "      <td>176</td>\n",
       "      <td>60.90</td>\n",
       "    </tr>\n",
       "    <tr>\n",
       "      <th>Nike Kids' Grade School KD VI Basketball Shoe</th>\n",
       "      <th>1</th>\n",
       "      <td>38</td>\n",
       "      <td>60.32</td>\n",
       "    </tr>\n",
       "    <tr>\n",
       "      <th>Bowflex SelectTech 1090 Dumbbells</th>\n",
       "      <th>1</th>\n",
       "      <td>6</td>\n",
       "      <td>60.00</td>\n",
       "    </tr>\n",
       "    <tr>\n",
       "      <th>Nike Women's Free 5.0 TR FIT PRT 4 Training S</th>\n",
       "      <th>1</th>\n",
       "      <td>42</td>\n",
       "      <td>60.00</td>\n",
       "    </tr>\n",
       "    <tr>\n",
       "      <th>Under Armour Women's Ignite PIP VI Slide</th>\n",
       "      <th>1</th>\n",
       "      <td>171</td>\n",
       "      <td>60.00</td>\n",
       "    </tr>\n",
       "    <tr>\n",
       "      <th>Under Armour Men's Tech II T-Shirt</th>\n",
       "      <th>1</th>\n",
       "      <td>168</td>\n",
       "      <td>60.00</td>\n",
       "    </tr>\n",
       "    <tr>\n",
       "      <th>Titleist Pro V1 High Numbers Personalized Gol</th>\n",
       "      <th>1</th>\n",
       "      <td>175</td>\n",
       "      <td>59.93</td>\n",
       "    </tr>\n",
       "    <tr>\n",
       "      <th>Nike Men's Fingertrap Max Training Shoe</th>\n",
       "      <th>1</th>\n",
       "      <td>38</td>\n",
       "      <td>59.38</td>\n",
       "    </tr>\n",
       "    <tr>\n",
       "      <th>adidas Kids' F5 Messi FG Soccer Cleat</th>\n",
       "      <th>1</th>\n",
       "      <td>155</td>\n",
       "      <td>59.16</td>\n",
       "    </tr>\n",
       "    <tr>\n",
       "      <th>Adult dog supplies</th>\n",
       "      <th>1</th>\n",
       "      <td>290</td>\n",
       "      <td>58.94</td>\n",
       "    </tr>\n",
       "    <tr>\n",
       "      <th>Bridgestone e6 Straight Distance NFL Carolina</th>\n",
       "      <th>1</th>\n",
       "      <td>180</td>\n",
       "      <td>58.44</td>\n",
       "    </tr>\n",
       "    <tr>\n",
       "      <th>ENO Atlas Hammock Straps</th>\n",
       "      <th>1</th>\n",
       "      <td>188</td>\n",
       "      <td>58.20</td>\n",
       "    </tr>\n",
       "    <tr>\n",
       "      <th>Web Camera</th>\n",
       "      <th>1</th>\n",
       "      <td>344</td>\n",
       "      <td>58.11</td>\n",
       "    </tr>\n",
       "    <tr>\n",
       "      <th>Yakima DoubleDown Ace Hitch Mount 4-Bike Rack</th>\n",
       "      <th>1</th>\n",
       "      <td>37</td>\n",
       "      <td>57.81</td>\n",
       "    </tr>\n",
       "    <tr>\n",
       "      <th>Clicgear Rovic Cooler Bag</th>\n",
       "      <th>1</th>\n",
       "      <td>164</td>\n",
       "      <td>57.75</td>\n",
       "    </tr>\n",
       "    <tr>\n",
       "      <th>Nike Women's Legend V-Neck T-Shirt</th>\n",
       "      <th>1</th>\n",
       "      <td>160</td>\n",
       "      <td>57.35</td>\n",
       "    </tr>\n",
       "    <tr>\n",
       "      <th>Nike Men's Free TR 5.0 TB Training Shoe</th>\n",
       "      <th>1</th>\n",
       "      <td>39</td>\n",
       "      <td>57.35</td>\n",
       "    </tr>\n",
       "    <tr>\n",
       "      <th>Rock music</th>\n",
       "      <th>1</th>\n",
       "      <td>248</td>\n",
       "      <td>57.14</td>\n",
       "    </tr>\n",
       "  </tbody>\n",
       "</table>\n",
       "</div>"
      ],
      "text/plain": [
       "                                                                  Total Orders  \\\n",
       "Product Name                                  Late_delivery_risk                 \n",
       "SOLE E25 Elliptical                           1                              7   \n",
       "Ogio Race Golf Shoes                          1                             42   \n",
       "GoPro HERO3+ Black Edition Camera             1                             21   \n",
       "Total Gym 1400                                1                             23   \n",
       "Titleist Small Wheeled Travel Cover           1                             34   \n",
       "Team Golf St. Louis Cardinals Putter Grip     1                            197   \n",
       "Pelican Maverick 100X Kayak                   1                             25   \n",
       "Diamondback Boys' Insight 24 Performance Hybr 1                             18   \n",
       "Titleist Club Glove Travel Cover              1                             21   \n",
       "Hirzl Women's Soffft Flex Golf Glove          1                            183   \n",
       "Mio ALPHA Heart Rate Monitor/Sport Watch      1                             41   \n",
       "Garmin Approach S3 Golf GPS Watch             1                             47   \n",
       "adidas Men's Germany Black Crest Away Tee     1                            176   \n",
       "Nike Kids' Grade School KD VI Basketball Shoe 1                             38   \n",
       "Bowflex SelectTech 1090 Dumbbells             1                              6   \n",
       "Nike Women's Free 5.0 TR FIT PRT 4 Training S 1                             42   \n",
       "Under Armour Women's Ignite PIP VI Slide      1                            171   \n",
       "Under Armour Men's Tech II T-Shirt            1                            168   \n",
       "Titleist Pro V1 High Numbers Personalized Gol 1                            175   \n",
       "Nike Men's Fingertrap Max Training Shoe       1                             38   \n",
       "adidas Kids' F5 Messi FG Soccer Cleat         1                            155   \n",
       "Adult dog supplies                            1                            290   \n",
       "Bridgestone e6 Straight Distance NFL Carolina 1                            180   \n",
       "ENO Atlas Hammock Straps                      1                            188   \n",
       "Web Camera                                    1                            344   \n",
       "Yakima DoubleDown Ace Hitch Mount 4-Bike Rack 1                             37   \n",
       "Clicgear Rovic Cooler Bag                     1                            164   \n",
       "Nike Women's Legend V-Neck T-Shirt            1                            160   \n",
       "Nike Men's Free TR 5.0 TB Training Shoe       1                             39   \n",
       "Rock music                                    1                            248   \n",
       "\n",
       "                                                                  Percent  \n",
       "Product Name                                  Late_delivery_risk           \n",
       "SOLE E25 Elliptical                           1                     70.00  \n",
       "Ogio Race Golf Shoes                          1                     68.85  \n",
       "GoPro HERO3+ Black Edition Camera             1                     65.62  \n",
       "Total Gym 1400                                1                     63.89  \n",
       "Titleist Small Wheeled Travel Cover           1                     62.96  \n",
       "Team Golf St. Louis Cardinals Putter Grip     1                     62.94  \n",
       "Pelican Maverick 100X Kayak                   1                     62.50  \n",
       "Diamondback Boys' Insight 24 Performance Hybr 1                     62.07  \n",
       "Titleist Club Glove Travel Cover              1                     61.76  \n",
       "Hirzl Women's Soffft Flex Golf Glove          1                     61.41  \n",
       "Mio ALPHA Heart Rate Monitor/Sport Watch      1                     61.19  \n",
       "Garmin Approach S3 Golf GPS Watch             1                     61.04  \n",
       "adidas Men's Germany Black Crest Away Tee     1                     60.90  \n",
       "Nike Kids' Grade School KD VI Basketball Shoe 1                     60.32  \n",
       "Bowflex SelectTech 1090 Dumbbells             1                     60.00  \n",
       "Nike Women's Free 5.0 TR FIT PRT 4 Training S 1                     60.00  \n",
       "Under Armour Women's Ignite PIP VI Slide      1                     60.00  \n",
       "Under Armour Men's Tech II T-Shirt            1                     60.00  \n",
       "Titleist Pro V1 High Numbers Personalized Gol 1                     59.93  \n",
       "Nike Men's Fingertrap Max Training Shoe       1                     59.38  \n",
       "adidas Kids' F5 Messi FG Soccer Cleat         1                     59.16  \n",
       "Adult dog supplies                            1                     58.94  \n",
       "Bridgestone e6 Straight Distance NFL Carolina 1                     58.44  \n",
       "ENO Atlas Hammock Straps                      1                     58.20  \n",
       "Web Camera                                    1                     58.11  \n",
       "Yakima DoubleDown Ace Hitch Mount 4-Bike Rack 1                     57.81  \n",
       "Clicgear Rovic Cooler Bag                     1                     57.75  \n",
       "Nike Women's Legend V-Neck T-Shirt            1                     57.35  \n",
       "Nike Men's Free TR 5.0 TB Training Shoe       1                     57.35  \n",
       "Rock music                                    1                     57.14  "
      ]
     },
     "execution_count": 289,
     "metadata": {},
     "output_type": "execute_result"
    }
   ],
   "source": [
    "df_lateriskprod = df.groupby(['Product Name','Late_delivery_risk']).size().to_frame(name='Total Orders')\n",
    "df_lateriskprod['Percent'] = df_lateriskprod.groupby(level=0).transform(lambda x: (x *100 / x.sum()).round(2))\n",
    "df_lateriskprod = df_lateriskprod.reset_index()\n",
    "df_lateriskprod[df_lateriskprod['Late_delivery_risk'] == 1].sort_values(by='Percent',ascending=False).set_index(['Product Name', 'Late_delivery_risk']).head(30)"
   ]
  },
  {
   "cell_type": "markdown",
   "metadata": {},
   "source": [
    "### d) MARKETS"
   ]
  },
  {
   "cell_type": "markdown",
   "metadata": {},
   "source": [
    "##### Which markets exist and which is the main one?"
   ]
  },
  {
   "cell_type": "code",
   "execution_count": 42,
   "metadata": {
    "scrolled": false
   },
   "outputs": [
    {
     "data": {
      "text/plain": [
       "LATAM           51594\n",
       "Europe          50252\n",
       "Pacific Asia    41260\n",
       "USCA            25799\n",
       "Africa          11614\n",
       "Name: Market, dtype: int64"
      ]
     },
     "execution_count": 42,
     "metadata": {},
     "output_type": "execute_result"
    }
   ],
   "source": [
    "df['Market'].value_counts().sort_values(ascending=False)"
   ]
  },
  {
   "cell_type": "markdown",
   "metadata": {},
   "source": [
    "##### Which regions exist and which is the main one?"
   ]
  },
  {
   "cell_type": "code",
   "execution_count": 101,
   "metadata": {
    "scrolled": true
   },
   "outputs": [
    {
     "data": {
      "text/plain": [
       "Central America    28341\n",
       "Western Europe     27109\n",
       "South America      14935\n",
       "Oceania            10148\n",
       "Northern Europe     9792\n",
       "Southeast Asia      9539\n",
       "Southern Europe     9431\n",
       "Caribbean           8318\n",
       "West of USA         7993\n",
       "South Asia          7731\n",
       "Eastern Asia        7280\n",
       "East of USA         6915\n",
       "West Asia           6009\n",
       "US Center           5887\n",
       "South of  USA       4045\n",
       "Eastern Europe      3920\n",
       "West Africa         3696\n",
       "North Africa        3232\n",
       "East Africa         1852\n",
       "Central Africa      1677\n",
       "Southern Africa     1157\n",
       "Canada               959\n",
       "Central Asia         553\n",
       "Name: Order Region, dtype: int64"
      ]
     },
     "execution_count": 101,
     "metadata": {},
     "output_type": "execute_result"
    }
   ],
   "source": [
    "df['Order Region'].value_counts().sort_values(ascending=False)"
   ]
  },
  {
   "cell_type": "markdown",
   "metadata": {},
   "source": [
    "##### Which are the real days for shipping to each market?\n",
    "(Big differences in the shipping days can show us which markets are closer and which are further away)"
   ]
  },
  {
   "cell_type": "code",
   "execution_count": 90,
   "metadata": {},
   "outputs": [
    {
     "data": {
      "text/html": [
       "<div>\n",
       "<style scoped>\n",
       "    .dataframe tbody tr th:only-of-type {\n",
       "        vertical-align: middle;\n",
       "    }\n",
       "\n",
       "    .dataframe tbody tr th {\n",
       "        vertical-align: top;\n",
       "    }\n",
       "\n",
       "    .dataframe thead th {\n",
       "        text-align: right;\n",
       "    }\n",
       "</style>\n",
       "<table border=\"1\" class=\"dataframe\">\n",
       "  <thead>\n",
       "    <tr style=\"text-align: right;\">\n",
       "      <th></th>\n",
       "      <th>Days for shipping (real)</th>\n",
       "    </tr>\n",
       "    <tr>\n",
       "      <th>Market</th>\n",
       "      <th></th>\n",
       "    </tr>\n",
       "  </thead>\n",
       "  <tbody>\n",
       "    <tr>\n",
       "      <th>Africa</th>\n",
       "      <td>3.511193</td>\n",
       "    </tr>\n",
       "    <tr>\n",
       "      <th>LATAM</th>\n",
       "      <td>3.508567</td>\n",
       "    </tr>\n",
       "    <tr>\n",
       "      <th>Pacific Asia</th>\n",
       "      <td>3.500509</td>\n",
       "    </tr>\n",
       "    <tr>\n",
       "      <th>Europe</th>\n",
       "      <td>3.487622</td>\n",
       "    </tr>\n",
       "    <tr>\n",
       "      <th>USCA</th>\n",
       "      <td>3.484709</td>\n",
       "    </tr>\n",
       "  </tbody>\n",
       "</table>\n",
       "</div>"
      ],
      "text/plain": [
       "              Days for shipping (real)\n",
       "Market                                \n",
       "Africa                        3.511193\n",
       "LATAM                         3.508567\n",
       "Pacific Asia                  3.500509\n",
       "Europe                        3.487622\n",
       "USCA                          3.484709"
      ]
     },
     "execution_count": 90,
     "metadata": {},
     "output_type": "execute_result"
    }
   ],
   "source": [
    "df.groupby('Market').mean()['Days for shipping (real)'].sort_values(ascending=False).to_frame()"
   ]
  },
  {
   "cell_type": "markdown",
   "metadata": {},
   "source": [
    "##### Which markets have the biggest delays? \n",
    "(Real shipping - Scheduled shipping) > 0 )"
   ]
  },
  {
   "cell_type": "code",
   "execution_count": 100,
   "metadata": {},
   "outputs": [
    {
     "name": "stderr",
     "output_type": "stream",
     "text": [
      "<ipython-input-100-089e81546aba>:2: SettingWithCopyWarning: \n",
      "A value is trying to be set on a copy of a slice from a DataFrame.\n",
      "Try using .loc[row_indexer,col_indexer] = value instead\n",
      "\n",
      "See the caveats in the documentation: https://pandas.pydata.org/pandas-docs/stable/user_guide/indexing.html#returning-a-view-versus-a-copy\n",
      "  df_delaydays['Delay'] = df['Days for shipping (real)'] - df['Days for shipment (scheduled)']\n"
     ]
    },
    {
     "data": {
      "text/html": [
       "<div>\n",
       "<style scoped>\n",
       "    .dataframe tbody tr th:only-of-type {\n",
       "        vertical-align: middle;\n",
       "    }\n",
       "\n",
       "    .dataframe tbody tr th {\n",
       "        vertical-align: top;\n",
       "    }\n",
       "\n",
       "    .dataframe thead th {\n",
       "        text-align: right;\n",
       "    }\n",
       "</style>\n",
       "<table border=\"1\" class=\"dataframe\">\n",
       "  <thead>\n",
       "    <tr style=\"text-align: right;\">\n",
       "      <th></th>\n",
       "      <th>Delay</th>\n",
       "    </tr>\n",
       "    <tr>\n",
       "      <th>Market</th>\n",
       "      <th></th>\n",
       "    </tr>\n",
       "  </thead>\n",
       "  <tbody>\n",
       "    <tr>\n",
       "      <th>Pacific Asia</th>\n",
       "      <td>1.621844</td>\n",
       "    </tr>\n",
       "    <tr>\n",
       "      <th>USCA</th>\n",
       "      <td>1.617200</td>\n",
       "    </tr>\n",
       "    <tr>\n",
       "      <th>Europe</th>\n",
       "      <td>1.616510</td>\n",
       "    </tr>\n",
       "    <tr>\n",
       "      <th>LATAM</th>\n",
       "      <td>1.616010</td>\n",
       "    </tr>\n",
       "    <tr>\n",
       "      <th>Africa</th>\n",
       "      <td>1.601697</td>\n",
       "    </tr>\n",
       "  </tbody>\n",
       "</table>\n",
       "</div>"
      ],
      "text/plain": [
       "                 Delay\n",
       "Market                \n",
       "Pacific Asia  1.621844\n",
       "USCA          1.617200\n",
       "Europe        1.616510\n",
       "LATAM         1.616010\n",
       "Africa        1.601697"
      ]
     },
     "execution_count": 100,
     "metadata": {},
     "output_type": "execute_result"
    }
   ],
   "source": [
    "df_delaydays = df[['Days for shipping (real)','Days for shipment (scheduled)','Market']]\n",
    "df_delaydays['Delay'] = df['Days for shipping (real)'] - df['Days for shipment (scheduled)']\n",
    "df_delaydays[df_delaydays['Delay'] >0].groupby('Market').mean().sort_values(by='Delay',ascending=False)['Delay'].to_frame()"
   ]
  },
  {
   "cell_type": "markdown",
   "metadata": {},
   "source": [
    "##### Market and regions with more orders (Multiindex Market-Region)"
   ]
  },
  {
   "cell_type": "code",
   "execution_count": 278,
   "metadata": {
    "scrolled": false
   },
   "outputs": [
    {
     "data": {
      "text/html": [
       "<div>\n",
       "<style scoped>\n",
       "    .dataframe tbody tr th:only-of-type {\n",
       "        vertical-align: middle;\n",
       "    }\n",
       "\n",
       "    .dataframe tbody tr th {\n",
       "        vertical-align: top;\n",
       "    }\n",
       "\n",
       "    .dataframe thead th {\n",
       "        text-align: right;\n",
       "    }\n",
       "</style>\n",
       "<table border=\"1\" class=\"dataframe\">\n",
       "  <thead>\n",
       "    <tr style=\"text-align: right;\">\n",
       "      <th></th>\n",
       "      <th></th>\n",
       "      <th>Total Orders</th>\n",
       "    </tr>\n",
       "    <tr>\n",
       "      <th>Market</th>\n",
       "      <th>Order Region</th>\n",
       "      <th></th>\n",
       "    </tr>\n",
       "  </thead>\n",
       "  <tbody>\n",
       "    <tr>\n",
       "      <th rowspan=\"5\" valign=\"top\">Africa</th>\n",
       "      <th>West Africa</th>\n",
       "      <td>3696</td>\n",
       "    </tr>\n",
       "    <tr>\n",
       "      <th>North Africa</th>\n",
       "      <td>3232</td>\n",
       "    </tr>\n",
       "    <tr>\n",
       "      <th>East Africa</th>\n",
       "      <td>1852</td>\n",
       "    </tr>\n",
       "    <tr>\n",
       "      <th>Central Africa</th>\n",
       "      <td>1677</td>\n",
       "    </tr>\n",
       "    <tr>\n",
       "      <th>Southern Africa</th>\n",
       "      <td>1157</td>\n",
       "    </tr>\n",
       "    <tr>\n",
       "      <th rowspan=\"4\" valign=\"top\">Europe</th>\n",
       "      <th>Western Europe</th>\n",
       "      <td>27109</td>\n",
       "    </tr>\n",
       "    <tr>\n",
       "      <th>Northern Europe</th>\n",
       "      <td>9792</td>\n",
       "    </tr>\n",
       "    <tr>\n",
       "      <th>Southern Europe</th>\n",
       "      <td>9431</td>\n",
       "    </tr>\n",
       "    <tr>\n",
       "      <th>Eastern Europe</th>\n",
       "      <td>3920</td>\n",
       "    </tr>\n",
       "    <tr>\n",
       "      <th rowspan=\"3\" valign=\"top\">LATAM</th>\n",
       "      <th>Central America</th>\n",
       "      <td>28341</td>\n",
       "    </tr>\n",
       "    <tr>\n",
       "      <th>South America</th>\n",
       "      <td>14935</td>\n",
       "    </tr>\n",
       "    <tr>\n",
       "      <th>Caribbean</th>\n",
       "      <td>8318</td>\n",
       "    </tr>\n",
       "    <tr>\n",
       "      <th rowspan=\"6\" valign=\"top\">Pacific Asia</th>\n",
       "      <th>Oceania</th>\n",
       "      <td>10148</td>\n",
       "    </tr>\n",
       "    <tr>\n",
       "      <th>Southeast Asia</th>\n",
       "      <td>9539</td>\n",
       "    </tr>\n",
       "    <tr>\n",
       "      <th>South Asia</th>\n",
       "      <td>7731</td>\n",
       "    </tr>\n",
       "    <tr>\n",
       "      <th>Eastern Asia</th>\n",
       "      <td>7280</td>\n",
       "    </tr>\n",
       "    <tr>\n",
       "      <th>West Asia</th>\n",
       "      <td>6009</td>\n",
       "    </tr>\n",
       "    <tr>\n",
       "      <th>Central Asia</th>\n",
       "      <td>553</td>\n",
       "    </tr>\n",
       "    <tr>\n",
       "      <th rowspan=\"5\" valign=\"top\">USCA</th>\n",
       "      <th>West of USA</th>\n",
       "      <td>7993</td>\n",
       "    </tr>\n",
       "    <tr>\n",
       "      <th>East of USA</th>\n",
       "      <td>6915</td>\n",
       "    </tr>\n",
       "    <tr>\n",
       "      <th>US Center</th>\n",
       "      <td>5887</td>\n",
       "    </tr>\n",
       "    <tr>\n",
       "      <th>South of  USA</th>\n",
       "      <td>4045</td>\n",
       "    </tr>\n",
       "    <tr>\n",
       "      <th>Canada</th>\n",
       "      <td>959</td>\n",
       "    </tr>\n",
       "  </tbody>\n",
       "</table>\n",
       "</div>"
      ],
      "text/plain": [
       "                              Total Orders\n",
       "Market       Order Region                 \n",
       "Africa       West Africa              3696\n",
       "             North Africa             3232\n",
       "             East Africa              1852\n",
       "             Central Africa           1677\n",
       "             Southern Africa          1157\n",
       "Europe       Western Europe          27109\n",
       "             Northern Europe          9792\n",
       "             Southern Europe          9431\n",
       "             Eastern Europe           3920\n",
       "LATAM        Central America         28341\n",
       "             South America           14935\n",
       "             Caribbean                8318\n",
       "Pacific Asia Oceania                 10148\n",
       "             Southeast Asia           9539\n",
       "             South Asia               7731\n",
       "             Eastern Asia             7280\n",
       "             West Asia                6009\n",
       "             Central Asia              553\n",
       "USCA         West of USA              7993\n",
       "             East of USA              6915\n",
       "             US Center                5887\n",
       "             South of  USA            4045\n",
       "             Canada                    959"
      ]
     },
     "execution_count": 278,
     "metadata": {},
     "output_type": "execute_result"
    }
   ],
   "source": [
    "# 1) Create table / 2) Sort Multiindex\n",
    "df_regions = df.groupby(['Market','Order Region']).size()\n",
    "df_regions.reset_index(name='Total Orders').groupby('Market').apply(lambda g: g.sort_values(by='Total Orders',ascending=False)).set_index(['Market', 'Order Region'])"
   ]
  },
  {
   "cell_type": "markdown",
   "metadata": {},
   "source": [
    "##### Which is the market with the higher sales?"
   ]
  },
  {
   "cell_type": "code",
   "execution_count": 181,
   "metadata": {
    "scrolled": false
   },
   "outputs": [
    {
     "data": {
      "text/html": [
       "<style  type=\"text/css\" >\n",
       "</style><table id=\"T_86617608_8438_11ec_8b8b_54e1ad372934\" ><thead>    <tr>        <th class=\"blank level0\" ></th>        <th class=\"col_heading level0 col0\" >Sales</th>    </tr>    <tr>        <th class=\"index_name level0\" >Market</th>        <th class=\"blank\" ></th>    </tr></thead><tbody>\n",
       "                <tr>\n",
       "                        <th id=\"T_86617608_8438_11ec_8b8b_54e1ad372934level0_row0\" class=\"row_heading level0 row0\" >Europe</th>\n",
       "                        <td id=\"T_86617608_8438_11ec_8b8b_54e1ad372934row0_col0\" class=\"data row0 col0\" >10,872,396</td>\n",
       "            </tr>\n",
       "            <tr>\n",
       "                        <th id=\"T_86617608_8438_11ec_8b8b_54e1ad372934level0_row1\" class=\"row_heading level0 row1\" >LATAM</th>\n",
       "                        <td id=\"T_86617608_8438_11ec_8b8b_54e1ad372934row1_col0\" class=\"data row1 col0\" >10,277,612</td>\n",
       "            </tr>\n",
       "            <tr>\n",
       "                        <th id=\"T_86617608_8438_11ec_8b8b_54e1ad372934level0_row2\" class=\"row_heading level0 row2\" >Pacific Asia</th>\n",
       "                        <td id=\"T_86617608_8438_11ec_8b8b_54e1ad372934row2_col0\" class=\"data row2 col0\" >8,273,743</td>\n",
       "            </tr>\n",
       "            <tr>\n",
       "                        <th id=\"T_86617608_8438_11ec_8b8b_54e1ad372934level0_row3\" class=\"row_heading level0 row3\" >USCA</th>\n",
       "                        <td id=\"T_86617608_8438_11ec_8b8b_54e1ad372934row3_col0\" class=\"data row3 col0\" >5,066,528</td>\n",
       "            </tr>\n",
       "            <tr>\n",
       "                        <th id=\"T_86617608_8438_11ec_8b8b_54e1ad372934level0_row4\" class=\"row_heading level0 row4\" >Africa</th>\n",
       "                        <td id=\"T_86617608_8438_11ec_8b8b_54e1ad372934row4_col0\" class=\"data row4 col0\" >2,294,452</td>\n",
       "            </tr>\n",
       "    </tbody></table>"
      ],
      "text/plain": [
       "<pandas.io.formats.style.Styler at 0x21547850bb0>"
      ]
     },
     "execution_count": 181,
     "metadata": {},
     "output_type": "execute_result"
    }
   ],
   "source": [
    "#value = 13258965\n",
    "#f'{value:,}'\n",
    "#'{:,}'.format(value)\n",
    "# To change the style of a unique number\n",
    "\n",
    "#astype('int64') Change the cientific notation to an integer\n",
    "#style.format('{:,}') Change the style of the numbers in the column in a DF \n",
    "df.groupby('Market').sum().sort_values(by='Sales',ascending=False)['Sales'].astype('int64').to_frame().style.format('{:,}')\n"
   ]
  },
  {
   "cell_type": "markdown",
   "metadata": {},
   "source": [
    "##### Average order sale per market:"
   ]
  },
  {
   "cell_type": "code",
   "execution_count": 5,
   "metadata": {},
   "outputs": [
    {
     "data": {
      "text/plain": [
       "<AxesSubplot:xlabel='Market', ylabel='Sales'>"
      ]
     },
     "execution_count": 5,
     "metadata": {},
     "output_type": "execute_result"
    },
    {
     "data": {
      "image/png": "[encoded data removed]",
      "text/plain": [
       "<Figure size 432x288 with 1 Axes>"
      ]
     },
     "metadata": {
      "needs_background": "light"
     },
     "output_type": "display_data"
    }
   ],
   "source": [
    "sns.boxplot(x= df['Market'], y=df['Sales'])"
   ]
  },
  {
   "cell_type": "markdown",
   "metadata": {},
   "source": [
    "##### Which is the market with the highest profit?"
   ]
  },
  {
   "cell_type": "code",
   "execution_count": 11,
   "metadata": {
    "scrolled": true
   },
   "outputs": [
    {
     "data": {
      "text/html": [
       "<div>\n",
       "<style scoped>\n",
       "    .dataframe tbody tr th:only-of-type {\n",
       "        vertical-align: middle;\n",
       "    }\n",
       "\n",
       "    .dataframe tbody tr th {\n",
       "        vertical-align: top;\n",
       "    }\n",
       "\n",
       "    .dataframe thead th {\n",
       "        text-align: right;\n",
       "    }\n",
       "</style>\n",
       "<table border=\"1\" class=\"dataframe\">\n",
       "  <thead>\n",
       "    <tr style=\"text-align: right;\">\n",
       "      <th></th>\n",
       "      <th>Total profit in USD</th>\n",
       "    </tr>\n",
       "    <tr>\n",
       "      <th>Market</th>\n",
       "      <th></th>\n",
       "    </tr>\n",
       "  </thead>\n",
       "  <tbody>\n",
       "    <tr>\n",
       "      <th>Europe</th>\n",
       "      <td>2,316,679.10</td>\n",
       "    </tr>\n",
       "    <tr>\n",
       "      <th>LATAM</th>\n",
       "      <td>2,201,487.68</td>\n",
       "    </tr>\n",
       "    <tr>\n",
       "      <th>Pacific Asia</th>\n",
       "      <td>1,750,765.37</td>\n",
       "    </tr>\n",
       "    <tr>\n",
       "      <th>USCA</th>\n",
       "      <td>1,093,505.81</td>\n",
       "    </tr>\n",
       "    <tr>\n",
       "      <th>Africa</th>\n",
       "      <td>488,012.36</td>\n",
       "    </tr>\n",
       "  </tbody>\n",
       "</table>\n",
       "</div>"
      ],
      "text/plain": [
       "             Total profit in USD\n",
       "Market                          \n",
       "Europe              2,316,679.10\n",
       "LATAM               2,201,487.68\n",
       "Pacific Asia        1,750,765.37\n",
       "USCA                1,093,505.81\n",
       "Africa                488,012.36"
      ]
     },
     "execution_count": 11,
     "metadata": {},
     "output_type": "execute_result"
    }
   ],
   "source": [
    "df_posprofit = df[df['Order Profit Per Order'] > 0]\n",
    "df_posprofit = df_posprofit.groupby('Market').sum().sort_values(by='Order Profit Per Order',ascending=False)['Order Profit Per Order'].map('{:,.2f}'.format)\n",
    "df_posprofit.to_frame(name='Total profit in USD')"
   ]
  },
  {
   "cell_type": "markdown",
   "metadata": {},
   "source": [
    "### e) TIME"
   ]
  },
  {
   "cell_type": "markdown",
   "metadata": {},
   "source": [
    "##### What is the frequency of the shipping orders? (amount of orders daily)"
   ]
  },
  {
   "cell_type": "code",
   "execution_count": 14,
   "metadata": {},
   "outputs": [],
   "source": [
    "# Column of Shipping date is a string. \n",
    "# If format of Date/Hour in the cell = Datetime, pass the column directly to datetime with to_datetime(df['...'])\n",
    "# If format is diff. from datetime, then we need to instruct how to take the format and transform it to datetime\n",
    "# Ex. to_datetime(df['...'], format = '%Y-%m-%d %I-%p')\n",
    "df['shipping date (DateOrders)'] = pd.to_datetime(df['shipping date (DateOrders)'])"
   ]
  },
  {
   "cell_type": "code",
   "execution_count": 15,
   "metadata": {},
   "outputs": [
    {
     "data": {
      "text/plain": [
       "pandas._libs.tslibs.timestamps.Timestamp"
      ]
     },
     "execution_count": 15,
     "metadata": {},
     "output_type": "execute_result"
    }
   ],
   "source": [
    "type(df['shipping date (DateOrders)'].iloc[0])"
   ]
  },
  {
   "cell_type": "code",
   "execution_count": 16,
   "metadata": {
    "scrolled": true
   },
   "outputs": [
    {
     "data": {
      "text/plain": [
       "<AxesSubplot:xlabel='shipping date (DateOrders)'>"
      ]
     },
     "execution_count": 16,
     "metadata": {},
     "output_type": "execute_result"
    },
    {
     "data": {
      "image/png": "[encoded data removed]",
      "text/plain": [
       "<Figure size 432x288 with 1 Axes>"
      ]
     },
     "metadata": {
      "needs_background": "light"
     },
     "output_type": "display_data"
    }
   ],
   "source": [
    "df_dailyfreq = df.set_index('shipping date (DateOrders)')\n",
    "df_dailyfreq.resample('D').size().plot()"
   ]
  },
  {
   "cell_type": "code",
   "execution_count": 32,
   "metadata": {},
   "outputs": [
    {
     "data": {
      "text/plain": [
       "Text(0.5, 1.0, 'Frequency of Shipments in 2015')"
      ]
     },
     "execution_count": 32,
     "metadata": {},
     "output_type": "execute_result"
    },
    {
     "data": {
      "image/png": "[encoded data removed]",
      "text/plain": [
       "<Figure size 1152x360 with 1 Axes>"
      ]
     },
     "metadata": {
      "needs_background": "light"
     },
     "output_type": "display_data"
    }
   ],
   "source": [
    "df_dailyfreq.resample('D').size()['2015'].plot(figsize = (16,5))\n",
    "plt.title('Frequency of Shipments in 2015')"
   ]
  },
  {
   "cell_type": "code",
   "execution_count": 33,
   "metadata": {},
   "outputs": [
    {
     "data": {
      "text/plain": [
       "Text(0.5, 1.0, 'Frequency of Shipments in 2016')"
      ]
     },
     "execution_count": 33,
     "metadata": {},
     "output_type": "execute_result"
    },
    {
     "data": {
      "image/png": "[encoded data removed]",
      "text/plain": [
       "<Figure size 1152x360 with 1 Axes>"
      ]
     },
     "metadata": {
      "needs_background": "light"
     },
     "output_type": "display_data"
    }
   ],
   "source": [
    "df_dailyfreq.resample('D').size()['2016'].plot(figsize = (16,5))\n",
    "plt.title('Frequency of Shipments in 2016')"
   ]
  },
  {
   "cell_type": "code",
   "execution_count": 34,
   "metadata": {
    "scrolled": false
   },
   "outputs": [
    {
     "data": {
      "text/plain": [
       "Text(0.5, 1.0, 'Frequency of Shipments in 2017')"
      ]
     },
     "execution_count": 34,
     "metadata": {},
     "output_type": "execute_result"
    },
    {
     "data": {
      "image/png": "[encoded data removed]",
      "text/plain": [
       "<Figure size 1152x360 with 1 Axes>"
      ]
     },
     "metadata": {
      "needs_background": "light"
     },
     "output_type": "display_data"
    }
   ],
   "source": [
    "df_dailyfreq.resample('D').size()['2017'].plot(figsize = (16,5))\n",
    "plt.title('Frequency of Shipments in 2017')"
   ]
  },
  {
   "cell_type": "markdown",
   "metadata": {},
   "source": [
    "##### Shipping date (weekly), is there a particular week where the sales increases? (Compare years 2015-2016-2017)"
   ]
  },
  {
   "cell_type": "code",
   "execution_count": 18,
   "metadata": {},
   "outputs": [],
   "source": [
    "#SALES PER WEEK COMPARING YEARS\n",
    "df_weeksales = df.set_index('shipping date (DateOrders)')\n",
    "df_week2015 = df_weeksales.resample('W').sum()['Sales']['2015'].reset_index()\n",
    "df_week2015.drop('shipping date (DateOrders)',axis=1,inplace=True)\n",
    "df_week2015.columns = df_week2015.columns.str.replace('Sales','Sales 2015') \n",
    "df_week2016 = df_weeksales.resample('W').sum()['Sales']['2016'].reset_index()\n",
    "df_week2016.drop('shipping date (DateOrders)',axis=1,inplace=True)\n",
    "df_week2016.columns = df_week2016.columns.str.replace('Sales','Sales 2016')\n",
    "df_week2017 = df_weeksales.resample('W').sum()['Sales']['2017'].reset_index()\n",
    "df_week2017.reset_index().drop(52,axis=0,inplace=True)\n",
    "df_week2017.drop('shipping date (DateOrders)',axis=1,inplace=True)\n",
    "df_week2017.columns = df_week2017.columns.str.replace('Sales','Sales 2017')"
   ]
  },
  {
   "cell_type": "code",
   "execution_count": 19,
   "metadata": {},
   "outputs": [
    {
     "data": {
      "text/html": [
       "<div>\n",
       "<style scoped>\n",
       "    .dataframe tbody tr th:only-of-type {\n",
       "        vertical-align: middle;\n",
       "    }\n",
       "\n",
       "    .dataframe tbody tr th {\n",
       "        vertical-align: top;\n",
       "    }\n",
       "\n",
       "    .dataframe thead th {\n",
       "        text-align: right;\n",
       "    }\n",
       "</style>\n",
       "<table border=\"1\" class=\"dataframe\">\n",
       "  <thead>\n",
       "    <tr style=\"text-align: right;\">\n",
       "      <th></th>\n",
       "      <th>Sales 2017</th>\n",
       "    </tr>\n",
       "  </thead>\n",
       "  <tbody>\n",
       "    <tr>\n",
       "      <th>0</th>\n",
       "      <td>237492.454470</td>\n",
       "    </tr>\n",
       "    <tr>\n",
       "      <th>1</th>\n",
       "      <td>226483.654593</td>\n",
       "    </tr>\n",
       "    <tr>\n",
       "      <th>2</th>\n",
       "      <td>252549.475036</td>\n",
       "    </tr>\n",
       "    <tr>\n",
       "      <th>3</th>\n",
       "      <td>232045.234487</td>\n",
       "    </tr>\n",
       "    <tr>\n",
       "      <th>4</th>\n",
       "      <td>231520.864492</td>\n",
       "    </tr>\n",
       "    <tr>\n",
       "      <th>5</th>\n",
       "      <td>236294.304467</td>\n",
       "    </tr>\n",
       "    <tr>\n",
       "      <th>6</th>\n",
       "      <td>257082.224801</td>\n",
       "    </tr>\n",
       "    <tr>\n",
       "      <th>7</th>\n",
       "      <td>234073.924641</td>\n",
       "    </tr>\n",
       "    <tr>\n",
       "      <th>8</th>\n",
       "      <td>257717.404621</td>\n",
       "    </tr>\n",
       "    <tr>\n",
       "      <th>9</th>\n",
       "      <td>236351.804661</td>\n",
       "    </tr>\n",
       "    <tr>\n",
       "      <th>10</th>\n",
       "      <td>237618.324725</td>\n",
       "    </tr>\n",
       "    <tr>\n",
       "      <th>11</th>\n",
       "      <td>236909.604737</td>\n",
       "    </tr>\n",
       "    <tr>\n",
       "      <th>12</th>\n",
       "      <td>239251.714834</td>\n",
       "    </tr>\n",
       "    <tr>\n",
       "      <th>13</th>\n",
       "      <td>229896.164792</td>\n",
       "    </tr>\n",
       "    <tr>\n",
       "      <th>14</th>\n",
       "      <td>243319.204782</td>\n",
       "    </tr>\n",
       "    <tr>\n",
       "      <th>15</th>\n",
       "      <td>224329.814604</td>\n",
       "    </tr>\n",
       "    <tr>\n",
       "      <th>16</th>\n",
       "      <td>250328.295077</td>\n",
       "    </tr>\n",
       "    <tr>\n",
       "      <th>17</th>\n",
       "      <td>242574.284781</td>\n",
       "    </tr>\n",
       "    <tr>\n",
       "      <th>18</th>\n",
       "      <td>266406.985393</td>\n",
       "    </tr>\n",
       "    <tr>\n",
       "      <th>19</th>\n",
       "      <td>251909.825118</td>\n",
       "    </tr>\n",
       "    <tr>\n",
       "      <th>20</th>\n",
       "      <td>252698.374862</td>\n",
       "    </tr>\n",
       "    <tr>\n",
       "      <th>21</th>\n",
       "      <td>233864.174497</td>\n",
       "    </tr>\n",
       "    <tr>\n",
       "      <th>22</th>\n",
       "      <td>252811.885013</td>\n",
       "    </tr>\n",
       "    <tr>\n",
       "      <th>23</th>\n",
       "      <td>244010.814679</td>\n",
       "    </tr>\n",
       "    <tr>\n",
       "      <th>24</th>\n",
       "      <td>233174.974735</td>\n",
       "    </tr>\n",
       "    <tr>\n",
       "      <th>25</th>\n",
       "      <td>237600.074950</td>\n",
       "    </tr>\n",
       "    <tr>\n",
       "      <th>26</th>\n",
       "      <td>252949.534893</td>\n",
       "    </tr>\n",
       "    <tr>\n",
       "      <th>27</th>\n",
       "      <td>264675.564945</td>\n",
       "    </tr>\n",
       "    <tr>\n",
       "      <th>28</th>\n",
       "      <td>236564.514561</td>\n",
       "    </tr>\n",
       "    <tr>\n",
       "      <th>29</th>\n",
       "      <td>241524.644539</td>\n",
       "    </tr>\n",
       "    <tr>\n",
       "      <th>30</th>\n",
       "      <td>257188.924897</td>\n",
       "    </tr>\n",
       "    <tr>\n",
       "      <th>31</th>\n",
       "      <td>235245.714527</td>\n",
       "    </tr>\n",
       "    <tr>\n",
       "      <th>32</th>\n",
       "      <td>255036.464782</td>\n",
       "    </tr>\n",
       "    <tr>\n",
       "      <th>33</th>\n",
       "      <td>252436.424907</td>\n",
       "    </tr>\n",
       "    <tr>\n",
       "      <th>34</th>\n",
       "      <td>233090.134544</td>\n",
       "    </tr>\n",
       "    <tr>\n",
       "      <th>35</th>\n",
       "      <td>264727.944965</td>\n",
       "    </tr>\n",
       "    <tr>\n",
       "      <th>36</th>\n",
       "      <td>252616.274783</td>\n",
       "    </tr>\n",
       "    <tr>\n",
       "      <th>37</th>\n",
       "      <td>277154.234713</td>\n",
       "    </tr>\n",
       "    <tr>\n",
       "      <th>38</th>\n",
       "      <td>252605.343495</td>\n",
       "    </tr>\n",
       "    <tr>\n",
       "      <th>39</th>\n",
       "      <td>259005.423572</td>\n",
       "    </tr>\n",
       "    <tr>\n",
       "      <th>40</th>\n",
       "      <td>201449.551917</td>\n",
       "    </tr>\n",
       "    <tr>\n",
       "      <th>41</th>\n",
       "      <td>86201.751572</td>\n",
       "    </tr>\n",
       "    <tr>\n",
       "      <th>42</th>\n",
       "      <td>203423.833775</td>\n",
       "    </tr>\n",
       "    <tr>\n",
       "      <th>43</th>\n",
       "      <td>236119.622587</td>\n",
       "    </tr>\n",
       "    <tr>\n",
       "      <th>44</th>\n",
       "      <td>491546.281069</td>\n",
       "    </tr>\n",
       "    <tr>\n",
       "      <th>45</th>\n",
       "      <td>155584.743568</td>\n",
       "    </tr>\n",
       "    <tr>\n",
       "      <th>46</th>\n",
       "      <td>167023.445228</td>\n",
       "    </tr>\n",
       "    <tr>\n",
       "      <th>47</th>\n",
       "      <td>169711.615134</td>\n",
       "    </tr>\n",
       "    <tr>\n",
       "      <th>48</th>\n",
       "      <td>105769.869217</td>\n",
       "    </tr>\n",
       "    <tr>\n",
       "      <th>49</th>\n",
       "      <td>64253.400122</td>\n",
       "    </tr>\n",
       "    <tr>\n",
       "      <th>50</th>\n",
       "      <td>47236.301258</td>\n",
       "    </tr>\n",
       "    <tr>\n",
       "      <th>51</th>\n",
       "      <td>56878.811313</td>\n",
       "    </tr>\n",
       "    <tr>\n",
       "      <th>52</th>\n",
       "      <td>259732.972592</td>\n",
       "    </tr>\n",
       "  </tbody>\n",
       "</table>\n",
       "</div>"
      ],
      "text/plain": [
       "       Sales 2017\n",
       "0   237492.454470\n",
       "1   226483.654593\n",
       "2   252549.475036\n",
       "3   232045.234487\n",
       "4   231520.864492\n",
       "5   236294.304467\n",
       "6   257082.224801\n",
       "7   234073.924641\n",
       "8   257717.404621\n",
       "9   236351.804661\n",
       "10  237618.324725\n",
       "11  236909.604737\n",
       "12  239251.714834\n",
       "13  229896.164792\n",
       "14  243319.204782\n",
       "15  224329.814604\n",
       "16  250328.295077\n",
       "17  242574.284781\n",
       "18  266406.985393\n",
       "19  251909.825118\n",
       "20  252698.374862\n",
       "21  233864.174497\n",
       "22  252811.885013\n",
       "23  244010.814679\n",
       "24  233174.974735\n",
       "25  237600.074950\n",
       "26  252949.534893\n",
       "27  264675.564945\n",
       "28  236564.514561\n",
       "29  241524.644539\n",
       "30  257188.924897\n",
       "31  235245.714527\n",
       "32  255036.464782\n",
       "33  252436.424907\n",
       "34  233090.134544\n",
       "35  264727.944965\n",
       "36  252616.274783\n",
       "37  277154.234713\n",
       "38  252605.343495\n",
       "39  259005.423572\n",
       "40  201449.551917\n",
       "41   86201.751572\n",
       "42  203423.833775\n",
       "43  236119.622587\n",
       "44  491546.281069\n",
       "45  155584.743568\n",
       "46  167023.445228\n",
       "47  169711.615134\n",
       "48  105769.869217\n",
       "49   64253.400122\n",
       "50   47236.301258\n",
       "51   56878.811313\n",
       "52  259732.972592"
      ]
     },
     "execution_count": 19,
     "metadata": {},
     "output_type": "execute_result"
    }
   ],
   "source": [
    "df_week2017"
   ]
  },
  {
   "cell_type": "code",
   "execution_count": 20,
   "metadata": {
    "scrolled": true
   },
   "outputs": [
    {
     "data": {
      "text/html": [
       "<div>\n",
       "<style scoped>\n",
       "    .dataframe tbody tr th:only-of-type {\n",
       "        vertical-align: middle;\n",
       "    }\n",
       "\n",
       "    .dataframe tbody tr th {\n",
       "        vertical-align: top;\n",
       "    }\n",
       "\n",
       "    .dataframe thead th {\n",
       "        text-align: right;\n",
       "    }\n",
       "</style>\n",
       "<table border=\"1\" class=\"dataframe\">\n",
       "  <thead>\n",
       "    <tr style=\"text-align: right;\">\n",
       "      <th></th>\n",
       "      <th>Sales 2015</th>\n",
       "      <th>Sales 2016</th>\n",
       "      <th>Sales 2017</th>\n",
       "    </tr>\n",
       "  </thead>\n",
       "  <tbody>\n",
       "    <tr>\n",
       "      <th>0</th>\n",
       "      <td>28183.540517</td>\n",
       "      <td>255377.845068</td>\n",
       "      <td>237492.454470</td>\n",
       "    </tr>\n",
       "    <tr>\n",
       "      <th>1</th>\n",
       "      <td>216197.064268</td>\n",
       "      <td>243240.154580</td>\n",
       "      <td>226483.654593</td>\n",
       "    </tr>\n",
       "    <tr>\n",
       "      <th>2</th>\n",
       "      <td>251861.874771</td>\n",
       "      <td>214519.364229</td>\n",
       "      <td>252549.475036</td>\n",
       "    </tr>\n",
       "    <tr>\n",
       "      <th>3</th>\n",
       "      <td>227802.554432</td>\n",
       "      <td>248146.935005</td>\n",
       "      <td>232045.234487</td>\n",
       "    </tr>\n",
       "    <tr>\n",
       "      <th>4</th>\n",
       "      <td>244746.544610</td>\n",
       "      <td>242889.024706</td>\n",
       "      <td>231520.864492</td>\n",
       "    </tr>\n",
       "    <tr>\n",
       "      <th>5</th>\n",
       "      <td>220804.274438</td>\n",
       "      <td>225658.724496</td>\n",
       "      <td>236294.304467</td>\n",
       "    </tr>\n",
       "    <tr>\n",
       "      <th>6</th>\n",
       "      <td>243000.554871</td>\n",
       "      <td>232380.984459</td>\n",
       "      <td>257082.224801</td>\n",
       "    </tr>\n",
       "    <tr>\n",
       "      <th>7</th>\n",
       "      <td>226391.984305</td>\n",
       "      <td>237284.774554</td>\n",
       "      <td>234073.924641</td>\n",
       "    </tr>\n",
       "    <tr>\n",
       "      <th>8</th>\n",
       "      <td>245126.864678</td>\n",
       "      <td>236461.244621</td>\n",
       "      <td>257717.404621</td>\n",
       "    </tr>\n",
       "    <tr>\n",
       "      <th>9</th>\n",
       "      <td>234669.144581</td>\n",
       "      <td>233647.664749</td>\n",
       "      <td>236351.804661</td>\n",
       "    </tr>\n",
       "    <tr>\n",
       "      <th>10</th>\n",
       "      <td>233570.944544</td>\n",
       "      <td>239416.634713</td>\n",
       "      <td>237618.324725</td>\n",
       "    </tr>\n",
       "    <tr>\n",
       "      <th>11</th>\n",
       "      <td>241382.264612</td>\n",
       "      <td>212342.094410</td>\n",
       "      <td>236909.604737</td>\n",
       "    </tr>\n",
       "    <tr>\n",
       "      <th>12</th>\n",
       "      <td>220249.544196</td>\n",
       "      <td>237820.764831</td>\n",
       "      <td>239251.714834</td>\n",
       "    </tr>\n",
       "    <tr>\n",
       "      <th>13</th>\n",
       "      <td>241105.614764</td>\n",
       "      <td>236098.044822</td>\n",
       "      <td>229896.164792</td>\n",
       "    </tr>\n",
       "    <tr>\n",
       "      <th>14</th>\n",
       "      <td>242289.974831</td>\n",
       "      <td>236228.114733</td>\n",
       "      <td>243319.204782</td>\n",
       "    </tr>\n",
       "    <tr>\n",
       "      <th>15</th>\n",
       "      <td>248332.964721</td>\n",
       "      <td>246515.055109</td>\n",
       "      <td>224329.814604</td>\n",
       "    </tr>\n",
       "    <tr>\n",
       "      <th>16</th>\n",
       "      <td>231898.344536</td>\n",
       "      <td>240946.614603</td>\n",
       "      <td>250328.295077</td>\n",
       "    </tr>\n",
       "    <tr>\n",
       "      <th>17</th>\n",
       "      <td>228125.214451</td>\n",
       "      <td>228238.814388</td>\n",
       "      <td>242574.284781</td>\n",
       "    </tr>\n",
       "    <tr>\n",
       "      <th>18</th>\n",
       "      <td>232317.874565</td>\n",
       "      <td>205458.404006</td>\n",
       "      <td>266406.985393</td>\n",
       "    </tr>\n",
       "    <tr>\n",
       "      <th>19</th>\n",
       "      <td>236415.784383</td>\n",
       "      <td>237354.414794</td>\n",
       "      <td>251909.825118</td>\n",
       "    </tr>\n",
       "    <tr>\n",
       "      <th>20</th>\n",
       "      <td>243956.994569</td>\n",
       "      <td>243846.305102</td>\n",
       "      <td>252698.374862</td>\n",
       "    </tr>\n",
       "    <tr>\n",
       "      <th>21</th>\n",
       "      <td>224887.494431</td>\n",
       "      <td>223047.564387</td>\n",
       "      <td>233864.174497</td>\n",
       "    </tr>\n",
       "    <tr>\n",
       "      <th>22</th>\n",
       "      <td>250058.894800</td>\n",
       "      <td>238409.624781</td>\n",
       "      <td>252811.885013</td>\n",
       "    </tr>\n",
       "    <tr>\n",
       "      <th>23</th>\n",
       "      <td>239307.434605</td>\n",
       "      <td>234668.294640</td>\n",
       "      <td>244010.814679</td>\n",
       "    </tr>\n",
       "    <tr>\n",
       "      <th>24</th>\n",
       "      <td>223574.754373</td>\n",
       "      <td>230933.164579</td>\n",
       "      <td>233174.974735</td>\n",
       "    </tr>\n",
       "    <tr>\n",
       "      <th>25</th>\n",
       "      <td>253760.844907</td>\n",
       "      <td>230360.904671</td>\n",
       "      <td>237600.074950</td>\n",
       "    </tr>\n",
       "    <tr>\n",
       "      <th>26</th>\n",
       "      <td>239959.224703</td>\n",
       "      <td>237750.754716</td>\n",
       "      <td>252949.534893</td>\n",
       "    </tr>\n",
       "    <tr>\n",
       "      <th>27</th>\n",
       "      <td>239484.644732</td>\n",
       "      <td>239205.204723</td>\n",
       "      <td>264675.564945</td>\n",
       "    </tr>\n",
       "    <tr>\n",
       "      <th>28</th>\n",
       "      <td>235212.904639</td>\n",
       "      <td>247272.974903</td>\n",
       "      <td>236564.514561</td>\n",
       "    </tr>\n",
       "    <tr>\n",
       "      <th>29</th>\n",
       "      <td>244190.334637</td>\n",
       "      <td>239488.914891</td>\n",
       "      <td>241524.644539</td>\n",
       "    </tr>\n",
       "    <tr>\n",
       "      <th>30</th>\n",
       "      <td>213715.294128</td>\n",
       "      <td>222824.784409</td>\n",
       "      <td>257188.924897</td>\n",
       "    </tr>\n",
       "    <tr>\n",
       "      <th>31</th>\n",
       "      <td>242768.304837</td>\n",
       "      <td>231199.594515</td>\n",
       "      <td>235245.714527</td>\n",
       "    </tr>\n",
       "    <tr>\n",
       "      <th>32</th>\n",
       "      <td>230234.944616</td>\n",
       "      <td>234039.924620</td>\n",
       "      <td>255036.464782</td>\n",
       "    </tr>\n",
       "    <tr>\n",
       "      <th>33</th>\n",
       "      <td>224622.304415</td>\n",
       "      <td>232002.704867</td>\n",
       "      <td>252436.424907</td>\n",
       "    </tr>\n",
       "    <tr>\n",
       "      <th>34</th>\n",
       "      <td>227042.954627</td>\n",
       "      <td>244920.974837</td>\n",
       "      <td>233090.134544</td>\n",
       "    </tr>\n",
       "    <tr>\n",
       "      <th>35</th>\n",
       "      <td>248025.465034</td>\n",
       "      <td>236605.754931</td>\n",
       "      <td>264727.944965</td>\n",
       "    </tr>\n",
       "    <tr>\n",
       "      <th>36</th>\n",
       "      <td>241062.994799</td>\n",
       "      <td>229555.464751</td>\n",
       "      <td>252616.274783</td>\n",
       "    </tr>\n",
       "    <tr>\n",
       "      <th>37</th>\n",
       "      <td>224799.314257</td>\n",
       "      <td>230674.304508</td>\n",
       "      <td>277154.234713</td>\n",
       "    </tr>\n",
       "    <tr>\n",
       "      <th>38</th>\n",
       "      <td>235441.424606</td>\n",
       "      <td>251514.855063</td>\n",
       "      <td>252605.343495</td>\n",
       "    </tr>\n",
       "    <tr>\n",
       "      <th>39</th>\n",
       "      <td>240203.194700</td>\n",
       "      <td>224798.414320</td>\n",
       "      <td>259005.423572</td>\n",
       "    </tr>\n",
       "    <tr>\n",
       "      <th>40</th>\n",
       "      <td>239118.854830</td>\n",
       "      <td>241203.814433</td>\n",
       "      <td>201449.551917</td>\n",
       "    </tr>\n",
       "    <tr>\n",
       "      <th>41</th>\n",
       "      <td>251304.264887</td>\n",
       "      <td>224422.224599</td>\n",
       "      <td>86201.751572</td>\n",
       "    </tr>\n",
       "    <tr>\n",
       "      <th>42</th>\n",
       "      <td>217607.494167</td>\n",
       "      <td>241127.914501</td>\n",
       "      <td>203423.833775</td>\n",
       "    </tr>\n",
       "    <tr>\n",
       "      <th>43</th>\n",
       "      <td>241808.024484</td>\n",
       "      <td>245454.584892</td>\n",
       "      <td>236119.622587</td>\n",
       "    </tr>\n",
       "    <tr>\n",
       "      <th>44</th>\n",
       "      <td>241992.855019</td>\n",
       "      <td>232270.414725</td>\n",
       "      <td>491546.281069</td>\n",
       "    </tr>\n",
       "    <tr>\n",
       "      <th>45</th>\n",
       "      <td>240852.204955</td>\n",
       "      <td>250023.865106</td>\n",
       "      <td>155584.743568</td>\n",
       "    </tr>\n",
       "    <tr>\n",
       "      <th>46</th>\n",
       "      <td>243937.694739</td>\n",
       "      <td>227732.744493</td>\n",
       "      <td>167023.445228</td>\n",
       "    </tr>\n",
       "    <tr>\n",
       "      <th>47</th>\n",
       "      <td>230100.414475</td>\n",
       "      <td>245631.584952</td>\n",
       "      <td>169711.615134</td>\n",
       "    </tr>\n",
       "    <tr>\n",
       "      <th>48</th>\n",
       "      <td>243055.984843</td>\n",
       "      <td>255881.745090</td>\n",
       "      <td>105769.869217</td>\n",
       "    </tr>\n",
       "    <tr>\n",
       "      <th>49</th>\n",
       "      <td>227437.884509</td>\n",
       "      <td>232569.194641</td>\n",
       "      <td>64253.400122</td>\n",
       "    </tr>\n",
       "    <tr>\n",
       "      <th>50</th>\n",
       "      <td>250537.924881</td>\n",
       "      <td>230810.144423</td>\n",
       "      <td>47236.301258</td>\n",
       "    </tr>\n",
       "    <tr>\n",
       "      <th>51</th>\n",
       "      <td>222133.354271</td>\n",
       "      <td>228094.614405</td>\n",
       "      <td>56878.811313</td>\n",
       "    </tr>\n",
       "    <tr>\n",
       "      <th>52</th>\n",
       "      <td>NaN</td>\n",
       "      <td>NaN</td>\n",
       "      <td>259732.972592</td>\n",
       "    </tr>\n",
       "  </tbody>\n",
       "</table>\n",
       "</div>"
      ],
      "text/plain": [
       "       Sales 2015     Sales 2016     Sales 2017\n",
       "0    28183.540517  255377.845068  237492.454470\n",
       "1   216197.064268  243240.154580  226483.654593\n",
       "2   251861.874771  214519.364229  252549.475036\n",
       "3   227802.554432  248146.935005  232045.234487\n",
       "4   244746.544610  242889.024706  231520.864492\n",
       "5   220804.274438  225658.724496  236294.304467\n",
       "6   243000.554871  232380.984459  257082.224801\n",
       "7   226391.984305  237284.774554  234073.924641\n",
       "8   245126.864678  236461.244621  257717.404621\n",
       "9   234669.144581  233647.664749  236351.804661\n",
       "10  233570.944544  239416.634713  237618.324725\n",
       "11  241382.264612  212342.094410  236909.604737\n",
       "12  220249.544196  237820.764831  239251.714834\n",
       "13  241105.614764  236098.044822  229896.164792\n",
       "14  242289.974831  236228.114733  243319.204782\n",
       "15  248332.964721  246515.055109  224329.814604\n",
       "16  231898.344536  240946.614603  250328.295077\n",
       "17  228125.214451  228238.814388  242574.284781\n",
       "18  232317.874565  205458.404006  266406.985393\n",
       "19  236415.784383  237354.414794  251909.825118\n",
       "20  243956.994569  243846.305102  252698.374862\n",
       "21  224887.494431  223047.564387  233864.174497\n",
       "22  250058.894800  238409.624781  252811.885013\n",
       "23  239307.434605  234668.294640  244010.814679\n",
       "24  223574.754373  230933.164579  233174.974735\n",
       "25  253760.844907  230360.904671  237600.074950\n",
       "26  239959.224703  237750.754716  252949.534893\n",
       "27  239484.644732  239205.204723  264675.564945\n",
       "28  235212.904639  247272.974903  236564.514561\n",
       "29  244190.334637  239488.914891  241524.644539\n",
       "30  213715.294128  222824.784409  257188.924897\n",
       "31  242768.304837  231199.594515  235245.714527\n",
       "32  230234.944616  234039.924620  255036.464782\n",
       "33  224622.304415  232002.704867  252436.424907\n",
       "34  227042.954627  244920.974837  233090.134544\n",
       "35  248025.465034  236605.754931  264727.944965\n",
       "36  241062.994799  229555.464751  252616.274783\n",
       "37  224799.314257  230674.304508  277154.234713\n",
       "38  235441.424606  251514.855063  252605.343495\n",
       "39  240203.194700  224798.414320  259005.423572\n",
       "40  239118.854830  241203.814433  201449.551917\n",
       "41  251304.264887  224422.224599   86201.751572\n",
       "42  217607.494167  241127.914501  203423.833775\n",
       "43  241808.024484  245454.584892  236119.622587\n",
       "44  241992.855019  232270.414725  491546.281069\n",
       "45  240852.204955  250023.865106  155584.743568\n",
       "46  243937.694739  227732.744493  167023.445228\n",
       "47  230100.414475  245631.584952  169711.615134\n",
       "48  243055.984843  255881.745090  105769.869217\n",
       "49  227437.884509  232569.194641   64253.400122\n",
       "50  250537.924881  230810.144423   47236.301258\n",
       "51  222133.354271  228094.614405   56878.811313\n",
       "52            NaN            NaN  259732.972592"
      ]
     },
     "execution_count": 20,
     "metadata": {},
     "output_type": "execute_result"
    }
   ],
   "source": [
    "df_weeksalesyearly = pd.concat([df_week2015,df_week2016,df_week2017],axis=1)\n",
    "df_weeksalesyearly"
   ]
  },
  {
   "cell_type": "code",
   "execution_count": 408,
   "metadata": {},
   "outputs": [
    {
     "data": {
      "text/plain": [
       "<AxesSubplot:>"
      ]
     },
     "execution_count": 408,
     "metadata": {},
     "output_type": "execute_result"
    },
    {
     "data": {
      "image/png": "[encoded data removed]",
      "text/plain": [
       "<Figure size 1080x432 with 1 Axes>"
      ]
     },
     "metadata": {
      "needs_background": "light"
     },
     "output_type": "display_data"
    }
   ],
   "source": [
    "df_weeksalesyearly.plot(figsize=(15,6))"
   ]
  },
  {
   "cell_type": "code",
   "execution_count": 409,
   "metadata": {},
   "outputs": [
    {
     "data": {
      "text/plain": [
       "<AxesSubplot:>"
      ]
     },
     "execution_count": 409,
     "metadata": {},
     "output_type": "execute_result"
    },
    {
     "data": {
      "image/png": "[encoded data removed]",
      "text/plain": [
       "<Figure size 1080x432 with 1 Axes>"
      ]
     },
     "metadata": {
      "needs_background": "light"
     },
     "output_type": "display_data"
    }
   ],
   "source": [
    "df_weeksalesyearly.iloc[5:11].plot(figsize=(15,6))"
   ]
  },
  {
   "cell_type": "code",
   "execution_count": 410,
   "metadata": {},
   "outputs": [
    {
     "data": {
      "text/plain": [
       "<AxesSubplot:>"
      ]
     },
     "execution_count": 410,
     "metadata": {},
     "output_type": "execute_result"
    },
    {
     "data": {
      "image/png": "[encoded data removed]",
      "text/plain": [
       "<Figure size 1080x432 with 1 Axes>"
      ]
     },
     "metadata": {
      "needs_background": "light"
     },
     "output_type": "display_data"
    }
   ],
   "source": [
    "df_weeksalesyearly.iloc[20:26].plot(figsize=(15,6))"
   ]
  },
  {
   "cell_type": "code",
   "execution_count": 411,
   "metadata": {
    "scrolled": true
   },
   "outputs": [
    {
     "data": {
      "text/plain": [
       "<AxesSubplot:>"
      ]
     },
     "execution_count": 411,
     "metadata": {},
     "output_type": "execute_result"
    },
    {
     "data": {
      "image/png": "[encoded data removed]",
      "text/plain": [
       "<Figure size 1080x432 with 1 Axes>"
      ]
     },
     "metadata": {
      "needs_background": "light"
     },
     "output_type": "display_data"
    }
   ],
   "source": [
    "df_weeksalesyearly.iloc[33:41].plot(figsize=(15,6))"
   ]
  },
  {
   "cell_type": "markdown",
   "metadata": {},
   "source": [
    "### f) SHIPPING MODES"
   ]
  },
  {
   "cell_type": "markdown",
   "metadata": {},
   "source": [
    "##### Which are the shipping modes and which is the main one?"
   ]
  },
  {
   "cell_type": "code",
   "execution_count": 414,
   "metadata": {
    "scrolled": true
   },
   "outputs": [
    {
     "data": {
      "text/plain": [
       "Standard Class    107752\n",
       "Second Class       35216\n",
       "First Class        27814\n",
       "Same Day            9737\n",
       "Name: Shipping Mode, dtype: int64"
      ]
     },
     "execution_count": 414,
     "metadata": {},
     "output_type": "execute_result"
    }
   ],
   "source": [
    "df_shipmodes = df['Shipping Mode'].value_counts().sort_values(ascending=False)\n",
    "df_shipmodes"
   ]
  },
  {
   "cell_type": "code",
   "execution_count": 419,
   "metadata": {
    "scrolled": true
   },
   "outputs": [
    {
     "data": {
      "text/plain": [
       "Text(0.5, 1.0, 'Main shipping modes in all the Dataset orders')"
      ]
     },
     "execution_count": 419,
     "metadata": {},
     "output_type": "execute_result"
    },
    {
     "data": {
      "image/png": "[encoded data removed]",
      "text/plain": [
       "<Figure size 432x288 with 1 Axes>"
      ]
     },
     "metadata": {},
     "output_type": "display_data"
    }
   ],
   "source": [
    "plt.pie(df_shipmodes, labels=df_shipmodes.index, labeldistance=1.15, wedgeprops = { 'linewidth' : 1, 'edgecolor' : 'white' }, colors= ('orange','green','pink','blue'))\n",
    "plt.title('Main shipping modes in all the Dataset orders')"
   ]
  },
  {
   "cell_type": "markdown",
   "metadata": {},
   "source": [
    "##### Is same day delivery the most used shipping mode in the different markets?"
   ]
  },
  {
   "cell_type": "code",
   "execution_count": 273,
   "metadata": {
    "scrolled": true
   },
   "outputs": [
    {
     "data": {
      "text/html": [
       "<div>\n",
       "<style scoped>\n",
       "    .dataframe tbody tr th:only-of-type {\n",
       "        vertical-align: middle;\n",
       "    }\n",
       "\n",
       "    .dataframe tbody tr th {\n",
       "        vertical-align: top;\n",
       "    }\n",
       "\n",
       "    .dataframe thead th {\n",
       "        text-align: right;\n",
       "    }\n",
       "</style>\n",
       "<table border=\"1\" class=\"dataframe\">\n",
       "  <thead>\n",
       "    <tr style=\"text-align: right;\">\n",
       "      <th></th>\n",
       "      <th></th>\n",
       "      <th>Total Orders</th>\n",
       "      <th>Percent</th>\n",
       "    </tr>\n",
       "    <tr>\n",
       "      <th>Market</th>\n",
       "      <th>Shipping Mode</th>\n",
       "      <th></th>\n",
       "      <th></th>\n",
       "    </tr>\n",
       "  </thead>\n",
       "  <tbody>\n",
       "    <tr>\n",
       "      <th rowspan=\"4\" valign=\"top\">Africa</th>\n",
       "      <th>Standard Class</th>\n",
       "      <td>7055</td>\n",
       "      <td>60.75</td>\n",
       "    </tr>\n",
       "    <tr>\n",
       "      <th>Second Class</th>\n",
       "      <td>2164</td>\n",
       "      <td>18.63</td>\n",
       "    </tr>\n",
       "    <tr>\n",
       "      <th>First Class</th>\n",
       "      <td>1727</td>\n",
       "      <td>14.87</td>\n",
       "    </tr>\n",
       "    <tr>\n",
       "      <th>Same Day</th>\n",
       "      <td>668</td>\n",
       "      <td>5.75</td>\n",
       "    </tr>\n",
       "    <tr>\n",
       "      <th rowspan=\"4\" valign=\"top\">Europe</th>\n",
       "      <th>Standard Class</th>\n",
       "      <td>29740</td>\n",
       "      <td>59.18</td>\n",
       "    </tr>\n",
       "    <tr>\n",
       "      <th>Second Class</th>\n",
       "      <td>9861</td>\n",
       "      <td>19.62</td>\n",
       "    </tr>\n",
       "    <tr>\n",
       "      <th>First Class</th>\n",
       "      <td>7892</td>\n",
       "      <td>15.70</td>\n",
       "    </tr>\n",
       "    <tr>\n",
       "      <th>Same Day</th>\n",
       "      <td>2759</td>\n",
       "      <td>5.49</td>\n",
       "    </tr>\n",
       "    <tr>\n",
       "      <th rowspan=\"4\" valign=\"top\">LATAM</th>\n",
       "      <th>Standard Class</th>\n",
       "      <td>31119</td>\n",
       "      <td>60.32</td>\n",
       "    </tr>\n",
       "    <tr>\n",
       "      <th>Second Class</th>\n",
       "      <td>9939</td>\n",
       "      <td>19.26</td>\n",
       "    </tr>\n",
       "    <tr>\n",
       "      <th>First Class</th>\n",
       "      <td>7886</td>\n",
       "      <td>15.28</td>\n",
       "    </tr>\n",
       "    <tr>\n",
       "      <th>Same Day</th>\n",
       "      <td>2650</td>\n",
       "      <td>5.14</td>\n",
       "    </tr>\n",
       "    <tr>\n",
       "      <th rowspan=\"4\" valign=\"top\">Pacific Asia</th>\n",
       "      <th>Standard Class</th>\n",
       "      <td>24586</td>\n",
       "      <td>59.59</td>\n",
       "    </tr>\n",
       "    <tr>\n",
       "      <th>Second Class</th>\n",
       "      <td>8147</td>\n",
       "      <td>19.75</td>\n",
       "    </tr>\n",
       "    <tr>\n",
       "      <th>First Class</th>\n",
       "      <td>6301</td>\n",
       "      <td>15.27</td>\n",
       "    </tr>\n",
       "    <tr>\n",
       "      <th>Same Day</th>\n",
       "      <td>2226</td>\n",
       "      <td>5.40</td>\n",
       "    </tr>\n",
       "    <tr>\n",
       "      <th rowspan=\"4\" valign=\"top\">USCA</th>\n",
       "      <th>Standard Class</th>\n",
       "      <td>15252</td>\n",
       "      <td>59.12</td>\n",
       "    </tr>\n",
       "    <tr>\n",
       "      <th>Second Class</th>\n",
       "      <td>5105</td>\n",
       "      <td>19.79</td>\n",
       "    </tr>\n",
       "    <tr>\n",
       "      <th>First Class</th>\n",
       "      <td>4008</td>\n",
       "      <td>15.54</td>\n",
       "    </tr>\n",
       "    <tr>\n",
       "      <th>Same Day</th>\n",
       "      <td>1434</td>\n",
       "      <td>5.56</td>\n",
       "    </tr>\n",
       "  </tbody>\n",
       "</table>\n",
       "</div>"
      ],
      "text/plain": [
       "                             Total Orders  Percent\n",
       "Market       Shipping Mode                        \n",
       "Africa       Standard Class          7055    60.75\n",
       "             Second Class            2164    18.63\n",
       "             First Class             1727    14.87\n",
       "             Same Day                 668     5.75\n",
       "Europe       Standard Class         29740    59.18\n",
       "             Second Class            9861    19.62\n",
       "             First Class             7892    15.70\n",
       "             Same Day                2759     5.49\n",
       "LATAM        Standard Class         31119    60.32\n",
       "             Second Class            9939    19.26\n",
       "             First Class             7886    15.28\n",
       "             Same Day                2650     5.14\n",
       "Pacific Asia Standard Class         24586    59.59\n",
       "             Second Class            8147    19.75\n",
       "             First Class             6301    15.27\n",
       "             Same Day                2226     5.40\n",
       "USCA         Standard Class         15252    59.12\n",
       "             Second Class            5105    19.79\n",
       "             First Class             4008    15.54\n",
       "             Same Day                1434     5.56"
      ]
     },
     "execution_count": 273,
     "metadata": {},
     "output_type": "execute_result"
    }
   ],
   "source": [
    "df_markship = df.groupby(['Market','Shipping Mode']).size().to_frame(name='Total Orders')\n",
    "df_markship['Percent'] = df_markship.groupby(level=0).transform(lambda x: (x *100 / x.sum()).round(2))\n",
    "df_markshipdf_markship.reset_index().groupby('Market').apply(lambda s: s.sort_values(by='Percent',ascending=False)).set_index(['Market', 'Shipping Mode'])\n",
    "df_markship\n",
    "#df['Shipping Mode'].value_counts().sort_values(ascending=False)"
   ]
  },
  {
   "cell_type": "markdown",
   "metadata": {},
   "source": [
    "##### CONCLUSION:\n",
    "\n",
    "a) Days of shipping\n",
    "\n",
    "* The schedule days of shipping vary between 0 and 4 days. On the other hand the real days for shipping vay between 0 and 6 days.\n",
    "\n",
    "* The mean deviation or mean bias error is a positive number, resulting in an overestimation in the forecast. \n",
    "\n",
    "\n",
    "b) Delivery Status\n",
    "\n",
    "* The delivery status shows the majority of orders with \"late delivery\". The rest of the catogories in descendent order are \"advance shipping\", \"shipping on time\", \"shipping canceled\".\n",
    "\n",
    "* A total  of 4.3% of shipments have been canceled. \n",
    "\n",
    "* To understand if the cancelled orders were related to a certain products we checked which were the products among this orders. We found that almost 58% of the cancelled orders corresponde to 5 products: Perfect fitness rip deck, Nike Mens CJ Elite Football cleat, Nike Men's Dri Fit Golf Polo, O'Brien Life Vest and Sportsman 16 gun fire safe. \n",
    "\n",
    "c) Late delivery risk\n",
    "\n",
    "* 54,8% of the orders present a late delivery risk.\n",
    "\n",
    "* To know if the late delivery risk was related to a certain market, we check the percentage of the risk among the orders in each market. As a result we obtained that around 54/55 % in all markets has a late delivery risk. So the risk doesn't depend of a certain market.\n",
    "\n",
    "* We also wanted to investigate if the late risk was related to a certain product. We found that there were products with a risk of 60/70% of late delivery. So the late delivery seems to be more frequent in certain specific products. \n",
    "\n",
    "d) Market\n",
    "\n",
    "* There are 5 markets: LATAM, Europe, Pacific Asia, USCA, Africa. LATAM is the market that has more orders.\n",
    "\n",
    "* There are 23 regions inside those 5 markets. The biggest regions in number of orders are Central America, Western Europe and South America.\n",
    "\n",
    "* The mean of shipping days (real days) is among 3,4 and 3.5 days. Meaning there aren't closer or further markets. Probably the company has the factories or distribution centers placed globally strategically to have a similar shipping time. \n",
    "\n",
    "* To find out the market that has the biggest delays we got the delays between the forecast and the real time it took to delivery the goods. The mean of this delay was very similar among the markets, resulting the biggest in 1.62 days of delay for Pacific Asia and the lowest for in 1.60 days for Africa.\n",
    "\n",
    "* The market with higher sales is Europe with 10 million USD in sales, followed bu LATAM and Pacific Asia.\n",
    "\n",
    "* The average order sale per market is between 0 and 500 USD (in all the markets) with a mean a little less than 250 USD. Europe is the main market that presents outliers outer of this ranges. \n",
    "\n",
    "* The market with the highest profit is Europe with 2 million USD, followed by LATAM and Pacific Asia. \n",
    "\n",
    "e) Time\n",
    "\n",
    "* With the date of the orders we were able to graph this data in a historic frequency of orders plot. The goal was to identify trends of certain months or years. Something that stood out was that in October 2017 something made the orders to reduce drastically and continue with a lower number of orders (compared to previous years).\n",
    "\n",
    "* Also we analice the orders per week and we compared the years 2015, 2016, 2017 overlapping the orders of each year. There are some weeks were we can see an increase among the years:\n",
    "\t* Week 6 (contains Valentine's day)\n",
    "\t* Week 8 (22 to 28 February)\n",
    "\t* Week 22 (31 May to 06 June)\n",
    "\t* Week 35 (contains labor day)\n",
    "\n",
    "f) Shipping Modes\n",
    "\n",
    "* There are four modes of shipping: Standard Class, Second Class, First Class and Same Day. The most used among the orders is Standard Class.\n",
    "\n",
    "* We wanted to know if the same day delivery was one of the most used shipping modes in the different markets. But in all the markets \"same day delivery\" only represents 5% of the orders."
   ]
  }
 ],
 "metadata": {
  "kernelspec": {
   "display_name": "Python 3",
   "language": "python",
   "name": "python3"
  },
  "language_info": {
   "codemirror_mode": {
    "name": "ipython",
    "version": 3
   },
   "file_extension": ".py",
   "mimetype": "text/x-python",
   "name": "python",
   "nbconvert_exporter": "python",
   "pygments_lexer": "ipython3",
   "version": "3.8.5"
  }
 },
 "nbformat": 4,
 "nbformat_minor": 4
}
