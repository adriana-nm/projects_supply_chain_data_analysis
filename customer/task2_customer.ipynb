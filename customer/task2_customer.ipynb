{
 "cells": [
  {
   "cell_type": "markdown",
   "metadata": {},
   "source": [
    "<h2 align=center>Exploratory Data Analysis With Python and Pandas</h2>\n",
    "<h2 align=center>CUSTOMER ANALYSIS</h2>"
   ]
  },
  {
   "cell_type": "code",
   "execution_count": 40,
   "metadata": {},
   "outputs": [],
   "source": [
    "import numpy as np\n",
    "import pandas as pd\n",
    "import matplotlib.pyplot as plt\n",
    "import seaborn as sns\n",
    "from matplotlib.ticker import MaxNLocator"
   ]
  },
  {
   "cell_type": "markdown",
   "metadata": {},
   "source": [
    "### Task 2: Univariate & Multivariate Analysis: CUSTOMER"
   ]
  },
  {
   "cell_type": "code",
   "execution_count": 41,
   "metadata": {},
   "outputs": [],
   "source": [
    "df = pd.read_csv('DataCoSupplyChainDataset.csv',encoding= 'unicode_escape')"
   ]
  },
  {
   "cell_type": "code",
   "execution_count": 43,
   "metadata": {},
   "outputs": [],
   "source": [
    "pd.set_option('display.max_columns', None)"
   ]
  },
  {
   "cell_type": "code",
   "execution_count": 42,
   "metadata": {
    "scrolled": false
   },
   "outputs": [
    {
     "data": {
      "text/html": [
       "<div>\n",
       "<style scoped>\n",
       "    .dataframe tbody tr th:only-of-type {\n",
       "        vertical-align: middle;\n",
       "    }\n",
       "\n",
       "    .dataframe tbody tr th {\n",
       "        vertical-align: top;\n",
       "    }\n",
       "\n",
       "    .dataframe thead th {\n",
       "        text-align: right;\n",
       "    }\n",
       "</style>\n",
       "<table border=\"1\" class=\"dataframe\">\n",
       "  <thead>\n",
       "    <tr style=\"text-align: right;\">\n",
       "      <th></th>\n",
       "      <th>Customer Id</th>\n",
       "      <th>Customer Fname</th>\n",
       "      <th>Customer Lname</th>\n",
       "      <th>Customer City</th>\n",
       "      <th>Customer Country</th>\n",
       "      <th>Customer Zipcode</th>\n",
       "      <th>Customer Email</th>\n",
       "      <th>Customer Password</th>\n",
       "      <th>Customer Segment</th>\n",
       "      <th>Order Customer Id</th>\n",
       "      <th>Sales per customer</th>\n",
       "      <th>Customer State</th>\n",
       "      <th>Customer Street</th>\n",
       "    </tr>\n",
       "  </thead>\n",
       "  <tbody>\n",
       "    <tr>\n",
       "      <th>9138</th>\n",
       "      <td>1</td>\n",
       "      <td>Richard</td>\n",
       "      <td>Hernandez</td>\n",
       "      <td>Brownsville</td>\n",
       "      <td>EE. UU.</td>\n",
       "      <td>78521.0</td>\n",
       "      <td>XXXXXXXXX</td>\n",
       "      <td>XXXXXXXXX</td>\n",
       "      <td>Consumer</td>\n",
       "      <td>1</td>\n",
       "      <td>472.450012</td>\n",
       "      <td>TX</td>\n",
       "      <td>6303 Heather Plaza</td>\n",
       "    </tr>\n",
       "    <tr>\n",
       "      <th>94974</th>\n",
       "      <td>2</td>\n",
       "      <td>Mary</td>\n",
       "      <td>Barrett</td>\n",
       "      <td>Littleton</td>\n",
       "      <td>EE. UU.</td>\n",
       "      <td>80126.0</td>\n",
       "      <td>XXXXXXXXX</td>\n",
       "      <td>XXXXXXXXX</td>\n",
       "      <td>Consumer</td>\n",
       "      <td>2</td>\n",
       "      <td>40.000000</td>\n",
       "      <td>CO</td>\n",
       "      <td>9526 Noble Embers Ridge</td>\n",
       "    </tr>\n",
       "    <tr>\n",
       "      <th>95017</th>\n",
       "      <td>2</td>\n",
       "      <td>Mary</td>\n",
       "      <td>Barrett</td>\n",
       "      <td>Littleton</td>\n",
       "      <td>EE. UU.</td>\n",
       "      <td>80126.0</td>\n",
       "      <td>XXXXXXXXX</td>\n",
       "      <td>XXXXXXXXX</td>\n",
       "      <td>Consumer</td>\n",
       "      <td>2</td>\n",
       "      <td>290.980011</td>\n",
       "      <td>CO</td>\n",
       "      <td>9526 Noble Embers Ridge</td>\n",
       "    </tr>\n",
       "    <tr>\n",
       "      <th>106166</th>\n",
       "      <td>2</td>\n",
       "      <td>Mary</td>\n",
       "      <td>Barrett</td>\n",
       "      <td>Littleton</td>\n",
       "      <td>EE. UU.</td>\n",
       "      <td>80126.0</td>\n",
       "      <td>XXXXXXXXX</td>\n",
       "      <td>XXXXXXXXX</td>\n",
       "      <td>Consumer</td>\n",
       "      <td>2</td>\n",
       "      <td>142.440002</td>\n",
       "      <td>CO</td>\n",
       "      <td>9526 Noble Embers Ridge</td>\n",
       "    </tr>\n",
       "    <tr>\n",
       "      <th>106167</th>\n",
       "      <td>2</td>\n",
       "      <td>Mary</td>\n",
       "      <td>Barrett</td>\n",
       "      <td>Littleton</td>\n",
       "      <td>EE. UU.</td>\n",
       "      <td>80126.0</td>\n",
       "      <td>XXXXXXXXX</td>\n",
       "      <td>XXXXXXXXX</td>\n",
       "      <td>Consumer</td>\n",
       "      <td>2</td>\n",
       "      <td>83.970001</td>\n",
       "      <td>CO</td>\n",
       "      <td>9526 Noble Embers Ridge</td>\n",
       "    </tr>\n",
       "    <tr>\n",
       "      <th>...</th>\n",
       "      <td>...</td>\n",
       "      <td>...</td>\n",
       "      <td>...</td>\n",
       "      <td>...</td>\n",
       "      <td>...</td>\n",
       "      <td>...</td>\n",
       "      <td>...</td>\n",
       "      <td>...</td>\n",
       "      <td>...</td>\n",
       "      <td>...</td>\n",
       "      <td>...</td>\n",
       "      <td>...</td>\n",
       "      <td>...</td>\n",
       "    </tr>\n",
       "    <tr>\n",
       "      <th>160537</th>\n",
       "      <td>20753</td>\n",
       "      <td>Chava</td>\n",
       "      <td>Velez</td>\n",
       "      <td>Caguas</td>\n",
       "      <td>Puerto Rico</td>\n",
       "      <td>725.0</td>\n",
       "      <td>XXXXXXXXX</td>\n",
       "      <td>XXXXXXXXX</td>\n",
       "      <td>Consumer</td>\n",
       "      <td>20753</td>\n",
       "      <td>161.869995</td>\n",
       "      <td>PR</td>\n",
       "      <td>9861 Grand Elk Trace</td>\n",
       "    </tr>\n",
       "    <tr>\n",
       "      <th>93905</th>\n",
       "      <td>20754</td>\n",
       "      <td>Stacey</td>\n",
       "      <td>Weber</td>\n",
       "      <td>Plainfield</td>\n",
       "      <td>EE. UU.</td>\n",
       "      <td>60544.0</td>\n",
       "      <td>XXXXXXXXX</td>\n",
       "      <td>XXXXXXXXX</td>\n",
       "      <td>Consumer</td>\n",
       "      <td>20754</td>\n",
       "      <td>172.660004</td>\n",
       "      <td>IL</td>\n",
       "      <td>5919 Hidden Anchor Port</td>\n",
       "    </tr>\n",
       "    <tr>\n",
       "      <th>0</th>\n",
       "      <td>20755</td>\n",
       "      <td>Cally</td>\n",
       "      <td>Holloway</td>\n",
       "      <td>Caguas</td>\n",
       "      <td>Puerto Rico</td>\n",
       "      <td>725.0</td>\n",
       "      <td>XXXXXXXXX</td>\n",
       "      <td>XXXXXXXXX</td>\n",
       "      <td>Consumer</td>\n",
       "      <td>20755</td>\n",
       "      <td>314.640015</td>\n",
       "      <td>PR</td>\n",
       "      <td>5365 Noble Nectar Island</td>\n",
       "    </tr>\n",
       "    <tr>\n",
       "      <th>52147</th>\n",
       "      <td>20756</td>\n",
       "      <td>Cherokee</td>\n",
       "      <td>Callahan</td>\n",
       "      <td>Berwyn</td>\n",
       "      <td>EE. UU.</td>\n",
       "      <td>60402.0</td>\n",
       "      <td>XXXXXXXXX</td>\n",
       "      <td>XXXXXXXXX</td>\n",
       "      <td>Corporate</td>\n",
       "      <td>20756</td>\n",
       "      <td>10.910000</td>\n",
       "      <td>IL</td>\n",
       "      <td>3312 Harvest Horse Chase</td>\n",
       "    </tr>\n",
       "    <tr>\n",
       "      <th>17863</th>\n",
       "      <td>20757</td>\n",
       "      <td>Katelyn</td>\n",
       "      <td>Gonzales</td>\n",
       "      <td>Miami</td>\n",
       "      <td>EE. UU.</td>\n",
       "      <td>33126.0</td>\n",
       "      <td>XXXXXXXXX</td>\n",
       "      <td>XXXXXXXXX</td>\n",
       "      <td>Corporate</td>\n",
       "      <td>20757</td>\n",
       "      <td>34.980000</td>\n",
       "      <td>FL</td>\n",
       "      <td>9299 Quiet Pioneer Forest</td>\n",
       "    </tr>\n",
       "  </tbody>\n",
       "</table>\n",
       "<p>180519 rows × 13 columns</p>\n",
       "</div>"
      ],
      "text/plain": [
       "        Customer Id Customer Fname Customer Lname Customer City  \\\n",
       "9138              1        Richard      Hernandez   Brownsville   \n",
       "94974             2           Mary        Barrett     Littleton   \n",
       "95017             2           Mary        Barrett     Littleton   \n",
       "106166            2           Mary        Barrett     Littleton   \n",
       "106167            2           Mary        Barrett     Littleton   \n",
       "...             ...            ...            ...           ...   \n",
       "160537        20753          Chava          Velez        Caguas   \n",
       "93905         20754         Stacey          Weber    Plainfield   \n",
       "0             20755          Cally       Holloway        Caguas   \n",
       "52147         20756       Cherokee       Callahan        Berwyn   \n",
       "17863         20757        Katelyn       Gonzales         Miami   \n",
       "\n",
       "       Customer Country  Customer Zipcode Customer Email Customer Password  \\\n",
       "9138            EE. UU.           78521.0      XXXXXXXXX         XXXXXXXXX   \n",
       "94974           EE. UU.           80126.0      XXXXXXXXX         XXXXXXXXX   \n",
       "95017           EE. UU.           80126.0      XXXXXXXXX         XXXXXXXXX   \n",
       "106166          EE. UU.           80126.0      XXXXXXXXX         XXXXXXXXX   \n",
       "106167          EE. UU.           80126.0      XXXXXXXXX         XXXXXXXXX   \n",
       "...                 ...               ...            ...               ...   \n",
       "160537      Puerto Rico             725.0      XXXXXXXXX         XXXXXXXXX   \n",
       "93905           EE. UU.           60544.0      XXXXXXXXX         XXXXXXXXX   \n",
       "0           Puerto Rico             725.0      XXXXXXXXX         XXXXXXXXX   \n",
       "52147           EE. UU.           60402.0      XXXXXXXXX         XXXXXXXXX   \n",
       "17863           EE. UU.           33126.0      XXXXXXXXX         XXXXXXXXX   \n",
       "\n",
       "       Customer Segment  Order Customer Id  Sales per customer Customer State  \\\n",
       "9138           Consumer                  1          472.450012             TX   \n",
       "94974          Consumer                  2           40.000000             CO   \n",
       "95017          Consumer                  2          290.980011             CO   \n",
       "106166         Consumer                  2          142.440002             CO   \n",
       "106167         Consumer                  2           83.970001             CO   \n",
       "...                 ...                ...                 ...            ...   \n",
       "160537         Consumer              20753          161.869995             PR   \n",
       "93905          Consumer              20754          172.660004             IL   \n",
       "0              Consumer              20755          314.640015             PR   \n",
       "52147         Corporate              20756           10.910000             IL   \n",
       "17863         Corporate              20757           34.980000             FL   \n",
       "\n",
       "                  Customer Street  \n",
       "9138           6303 Heather Plaza  \n",
       "94974     9526 Noble Embers Ridge  \n",
       "95017     9526 Noble Embers Ridge  \n",
       "106166    9526 Noble Embers Ridge  \n",
       "106167    9526 Noble Embers Ridge  \n",
       "...                           ...  \n",
       "160537       9861 Grand Elk Trace  \n",
       "93905     5919 Hidden Anchor Port  \n",
       "0        5365 Noble Nectar Island  \n",
       "52147    3312 Harvest Horse Chase  \n",
       "17863   9299 Quiet Pioneer Forest  \n",
       "\n",
       "[180519 rows x 13 columns]"
      ]
     },
     "execution_count": 42,
     "metadata": {},
     "output_type": "execute_result"
    }
   ],
   "source": [
    "df_cust = df[['Customer Id','Customer Fname','Customer Lname', 'Customer City', 'Customer Country', 'Customer Zipcode',\n",
    "    'Customer Email',  'Customer Password', 'Customer Segment','Order Customer Id','Sales per customer','Customer State','Customer Street']]\n",
    "#Sales per customer: Money received from the sale (discount not included)\n",
    "df_cust.sort_values('Customer Id')"
   ]
  },
  {
   "cell_type": "markdown",
   "metadata": {},
   "source": [
    "Customer City: City where the purchase was made\n",
    "Customer Country: Country where the purchase was made"
   ]
  },
  {
   "cell_type": "markdown",
   "metadata": {},
   "source": [
    "### a) CUSTOMERS"
   ]
  },
  {
   "cell_type": "markdown",
   "metadata": {},
   "source": [
    "##### How many customers does the company have?"
   ]
  },
  {
   "cell_type": "code",
   "execution_count": 24,
   "metadata": {
    "scrolled": false
   },
   "outputs": [
    {
     "data": {
      "text/plain": [
       "20652"
      ]
     },
     "execution_count": 24,
     "metadata": {},
     "output_type": "execute_result"
    }
   ],
   "source": [
    "df['Customer Id'].nunique()"
   ]
  },
  {
   "cell_type": "markdown",
   "metadata": {},
   "source": [
    "##### Do the customers buy only 1 type of product or many? (historically)"
   ]
  },
  {
   "cell_type": "code",
   "execution_count": 4,
   "metadata": {
    "scrolled": true
   },
   "outputs": [
    {
     "data": {
      "text/html": [
       "<div>\n",
       "<style scoped>\n",
       "    .dataframe tbody tr th:only-of-type {\n",
       "        vertical-align: middle;\n",
       "    }\n",
       "\n",
       "    .dataframe tbody tr th {\n",
       "        vertical-align: top;\n",
       "    }\n",
       "\n",
       "    .dataframe thead th {\n",
       "        text-align: right;\n",
       "    }\n",
       "</style>\n",
       "<table border=\"1\" class=\"dataframe\">\n",
       "  <thead>\n",
       "    <tr style=\"text-align: right;\">\n",
       "      <th></th>\n",
       "      <th>Customer Fname</th>\n",
       "      <th>Customer Lname</th>\n",
       "      <th>Num. diff. products</th>\n",
       "      <th>Total Profit per customer</th>\n",
       "    </tr>\n",
       "    <tr>\n",
       "      <th>Customer Id</th>\n",
       "      <th></th>\n",
       "      <th></th>\n",
       "      <th></th>\n",
       "      <th></th>\n",
       "    </tr>\n",
       "  </thead>\n",
       "  <tbody>\n",
       "    <tr>\n",
       "      <th>1</th>\n",
       "      <td>Richard</td>\n",
       "      <td>Hernandez</td>\n",
       "      <td>1</td>\n",
       "      <td>159.69</td>\n",
       "    </tr>\n",
       "    <tr>\n",
       "      <th>2</th>\n",
       "      <td>Mary</td>\n",
       "      <td>Barrett</td>\n",
       "      <td>7</td>\n",
       "      <td>208.74</td>\n",
       "    </tr>\n",
       "    <tr>\n",
       "      <th>3</th>\n",
       "      <td>Ann</td>\n",
       "      <td>Smith</td>\n",
       "      <td>9</td>\n",
       "      <td>334.49</td>\n",
       "    </tr>\n",
       "    <tr>\n",
       "      <th>5</th>\n",
       "      <td>Robert</td>\n",
       "      <td>Hudson</td>\n",
       "      <td>5</td>\n",
       "      <td>309.85</td>\n",
       "    </tr>\n",
       "    <tr>\n",
       "      <th>6</th>\n",
       "      <td>Mary</td>\n",
       "      <td>Smith</td>\n",
       "      <td>8</td>\n",
       "      <td>893.65</td>\n",
       "    </tr>\n",
       "    <tr>\n",
       "      <th>...</th>\n",
       "      <td>...</td>\n",
       "      <td>...</td>\n",
       "      <td>...</td>\n",
       "      <td>...</td>\n",
       "    </tr>\n",
       "    <tr>\n",
       "      <th>20751</th>\n",
       "      <td>Shelley</td>\n",
       "      <td>Irwin</td>\n",
       "      <td>1</td>\n",
       "      <td>70.51</td>\n",
       "    </tr>\n",
       "    <tr>\n",
       "      <th>20752</th>\n",
       "      <td>Lee</td>\n",
       "      <td>Glover</td>\n",
       "      <td>1</td>\n",
       "      <td>103.59</td>\n",
       "    </tr>\n",
       "    <tr>\n",
       "      <th>20755</th>\n",
       "      <td>Cally</td>\n",
       "      <td>Holloway</td>\n",
       "      <td>1</td>\n",
       "      <td>91.25</td>\n",
       "    </tr>\n",
       "    <tr>\n",
       "      <th>20756</th>\n",
       "      <td>Cherokee</td>\n",
       "      <td>Callahan</td>\n",
       "      <td>1</td>\n",
       "      <td>1.53</td>\n",
       "    </tr>\n",
       "    <tr>\n",
       "      <th>20757</th>\n",
       "      <td>Katelyn</td>\n",
       "      <td>Gonzales</td>\n",
       "      <td>1</td>\n",
       "      <td>9.79</td>\n",
       "    </tr>\n",
       "  </tbody>\n",
       "</table>\n",
       "<p>16530 rows × 4 columns</p>\n",
       "</div>"
      ],
      "text/plain": [
       "            Customer Fname Customer Lname  Num. diff. products  \\\n",
       "Customer Id                                                      \n",
       "1                  Richard      Hernandez                    1   \n",
       "2                     Mary        Barrett                    7   \n",
       "3                      Ann          Smith                    9   \n",
       "5                   Robert         Hudson                    5   \n",
       "6                     Mary          Smith                    8   \n",
       "...                    ...            ...                  ...   \n",
       "20751              Shelley          Irwin                    1   \n",
       "20752                  Lee         Glover                    1   \n",
       "20755                Cally       Holloway                    1   \n",
       "20756             Cherokee       Callahan                    1   \n",
       "20757              Katelyn       Gonzales                    1   \n",
       "\n",
       "             Total Profit per customer  \n",
       "Customer Id                             \n",
       "1                               159.69  \n",
       "2                               208.74  \n",
       "3                               334.49  \n",
       "5                               309.85  \n",
       "6                               893.65  \n",
       "...                                ...  \n",
       "20751                            70.51  \n",
       "20752                           103.59  \n",
       "20755                            91.25  \n",
       "20756                             1.53  \n",
       "20757                             9.79  \n",
       "\n",
       "[16530 rows x 4 columns]"
      ]
     },
     "execution_count": 4,
     "metadata": {},
     "output_type": "execute_result"
    }
   ],
   "source": [
    "# How many unique products does each customer purchase (Allways buy same product, or differents)\n",
    "df_idprod = df.groupby('Customer Id').nunique()['Product Card Id'].to_frame(name='Num. diff. products')\n",
    "#df_idprod.columns = df_idprod.columns.str.replace('Product Card Id','Num. diff. products')\n",
    "\n",
    "# How much profit did the company received from each customer historically \n",
    "df_namesales =  round(df.groupby('Customer Id').sum()['Order Profit Per Order'].to_frame(name='Total Profit per customer'),2)\n",
    "#df_namesales = df_namesales.columns.str.replace('Order Profit Per Order','Total Profit per customer')\n",
    "\n",
    "# Which are the name and last name of each Customer Id\n",
    "df_idname = df[['Customer Id','Customer Fname','Customer Lname']].drop_duplicates(subset='Customer Id').set_index('Customer Id')\n",
    "\n",
    "# Join the 3 dataframes\n",
    "df_custprof_prod = pd.concat([df_idname,df_idprod,df_namesales], axis=1)\n",
    "df_custprof_prod = df_custprof_prod[df_custprof_prod['Total Profit per customer'] > 0 ]\n",
    "df_custprof_prod"
   ]
  },
  {
   "cell_type": "code",
   "execution_count": 5,
   "metadata": {
    "scrolled": true
   },
   "outputs": [
    {
     "data": {
      "text/plain": [
       "1     0.412039\n",
       "8     0.092801\n",
       "9     0.084876\n",
       "7     0.083182\n",
       "6     0.071627\n",
       "10    0.066606\n",
       "5     0.050091\n",
       "11    0.039443\n",
       "4     0.034785\n",
       "3     0.020448\n",
       "12    0.018935\n",
       "2     0.012462\n",
       "13    0.008227\n",
       "14    0.002843\n",
       "15    0.001089\n",
       "16    0.000302\n",
       "17    0.000242\n",
       "Name: Num. diff. products, dtype: float64"
      ]
     },
     "execution_count": 5,
     "metadata": {},
     "output_type": "execute_result"
    }
   ],
   "source": [
    "# Percentage of different products purchased per client (historically)\n",
    "df_custprof_prod['Num. diff. products'].value_counts(normalize=True)"
   ]
  },
  {
   "cell_type": "markdown",
   "metadata": {},
   "source": [
    "##### Which of both options (buy 1 product or different products) bring more profit to the company?"
   ]
  },
  {
   "cell_type": "code",
   "execution_count": 51,
   "metadata": {
    "scrolled": false
   },
   "outputs": [
    {
     "data": {
      "text/html": [
       "<div>\n",
       "<style scoped>\n",
       "    .dataframe tbody tr th:only-of-type {\n",
       "        vertical-align: middle;\n",
       "    }\n",
       "\n",
       "    .dataframe tbody tr th {\n",
       "        vertical-align: top;\n",
       "    }\n",
       "\n",
       "    .dataframe thead tr th {\n",
       "        text-align: left;\n",
       "    }\n",
       "\n",
       "    .dataframe thead tr:last-of-type th {\n",
       "        text-align: right;\n",
       "    }\n",
       "</style>\n",
       "<table border=\"1\" class=\"dataframe\">\n",
       "  <thead>\n",
       "    <tr>\n",
       "      <th></th>\n",
       "      <th colspan=\"3\" halign=\"left\">Total Profit per customer</th>\n",
       "    </tr>\n",
       "    <tr>\n",
       "      <th></th>\n",
       "      <th>median</th>\n",
       "      <th>mean</th>\n",
       "      <th>sum</th>\n",
       "    </tr>\n",
       "    <tr>\n",
       "      <th>Num. diff. products</th>\n",
       "      <th></th>\n",
       "      <th></th>\n",
       "      <th></th>\n",
       "    </tr>\n",
       "  </thead>\n",
       "  <tbody>\n",
       "    <tr>\n",
       "      <th>1</th>\n",
       "      <td>50.180</td>\n",
       "      <td>78.738715</td>\n",
       "      <td>536289.39</td>\n",
       "    </tr>\n",
       "    <tr>\n",
       "      <th>2</th>\n",
       "      <td>98.510</td>\n",
       "      <td>120.370097</td>\n",
       "      <td>24796.24</td>\n",
       "    </tr>\n",
       "    <tr>\n",
       "      <th>3</th>\n",
       "      <td>174.495</td>\n",
       "      <td>185.223254</td>\n",
       "      <td>62605.46</td>\n",
       "    </tr>\n",
       "    <tr>\n",
       "      <th>4</th>\n",
       "      <td>230.010</td>\n",
       "      <td>241.797652</td>\n",
       "      <td>139033.65</td>\n",
       "    </tr>\n",
       "    <tr>\n",
       "      <th>5</th>\n",
       "      <td>273.410</td>\n",
       "      <td>290.554855</td>\n",
       "      <td>240579.42</td>\n",
       "    </tr>\n",
       "    <tr>\n",
       "      <th>6</th>\n",
       "      <td>337.815</td>\n",
       "      <td>357.558429</td>\n",
       "      <td>423349.18</td>\n",
       "    </tr>\n",
       "    <tr>\n",
       "      <th>7</th>\n",
       "      <td>410.870</td>\n",
       "      <td>439.142458</td>\n",
       "      <td>603820.88</td>\n",
       "    </tr>\n",
       "    <tr>\n",
       "      <th>8</th>\n",
       "      <td>464.530</td>\n",
       "      <td>486.477438</td>\n",
       "      <td>746256.39</td>\n",
       "    </tr>\n",
       "    <tr>\n",
       "      <th>9</th>\n",
       "      <td>534.350</td>\n",
       "      <td>559.867833</td>\n",
       "      <td>785494.57</td>\n",
       "    </tr>\n",
       "    <tr>\n",
       "      <th>10</th>\n",
       "      <td>578.960</td>\n",
       "      <td>607.486267</td>\n",
       "      <td>668842.38</td>\n",
       "    </tr>\n",
       "    <tr>\n",
       "      <th>11</th>\n",
       "      <td>634.330</td>\n",
       "      <td>661.699709</td>\n",
       "      <td>431428.21</td>\n",
       "    </tr>\n",
       "    <tr>\n",
       "      <th>12</th>\n",
       "      <td>708.480</td>\n",
       "      <td>708.280703</td>\n",
       "      <td>221691.86</td>\n",
       "    </tr>\n",
       "    <tr>\n",
       "      <th>13</th>\n",
       "      <td>747.170</td>\n",
       "      <td>751.215147</td>\n",
       "      <td>102165.26</td>\n",
       "    </tr>\n",
       "    <tr>\n",
       "      <th>14</th>\n",
       "      <td>706.240</td>\n",
       "      <td>762.624681</td>\n",
       "      <td>35843.36</td>\n",
       "    </tr>\n",
       "    <tr>\n",
       "      <th>15</th>\n",
       "      <td>866.350</td>\n",
       "      <td>848.094444</td>\n",
       "      <td>15265.70</td>\n",
       "    </tr>\n",
       "    <tr>\n",
       "      <th>16</th>\n",
       "      <td>1054.700</td>\n",
       "      <td>991.116000</td>\n",
       "      <td>4955.58</td>\n",
       "    </tr>\n",
       "    <tr>\n",
       "      <th>17</th>\n",
       "      <td>1092.565</td>\n",
       "      <td>1196.290000</td>\n",
       "      <td>4785.16</td>\n",
       "    </tr>\n",
       "  </tbody>\n",
       "</table>\n",
       "</div>"
      ],
      "text/plain": [
       "                    Total Profit per customer                        \n",
       "                                       median         mean        sum\n",
       "Num. diff. products                                                  \n",
       "1                                      50.180    78.738715  536289.39\n",
       "2                                      98.510   120.370097   24796.24\n",
       "3                                     174.495   185.223254   62605.46\n",
       "4                                     230.010   241.797652  139033.65\n",
       "5                                     273.410   290.554855  240579.42\n",
       "6                                     337.815   357.558429  423349.18\n",
       "7                                     410.870   439.142458  603820.88\n",
       "8                                     464.530   486.477438  746256.39\n",
       "9                                     534.350   559.867833  785494.57\n",
       "10                                    578.960   607.486267  668842.38\n",
       "11                                    634.330   661.699709  431428.21\n",
       "12                                    708.480   708.280703  221691.86\n",
       "13                                    747.170   751.215147  102165.26\n",
       "14                                    706.240   762.624681   35843.36\n",
       "15                                    866.350   848.094444   15265.70\n",
       "16                                   1054.700   991.116000    4955.58\n",
       "17                                   1092.565  1196.290000    4785.16"
      ]
     },
     "execution_count": 51,
     "metadata": {},
     "output_type": "execute_result"
    }
   ],
   "source": [
    "df_custprof_prod.groupby(['Num. diff. products']).agg(['median','mean','sum'])"
   ]
  },
  {
   "cell_type": "code",
   "execution_count": 53,
   "metadata": {},
   "outputs": [
    {
     "data": {
      "text/plain": [
       "Text(0.5, 1.0, 'Distribution of profit per number of different products the customer purchased historically (in USD)')"
      ]
     },
     "execution_count": 53,
     "metadata": {},
     "output_type": "execute_result"
    },
    {
     "data": {
      "image/png": "[encoded data removed]",
      "text/plain": [
       "<Figure size 1224x360 with 1 Axes>"
      ]
     },
     "metadata": {
      "needs_background": "light"
     },
     "output_type": "display_data"
    }
   ],
   "source": [
    "# Scatter plot\n",
    "df_custprof_prod.plot(x='Num. diff. products', y=\"Total Profit per customer\", kind=\"scatter\",figsize=(17,5))\n",
    "plt.title('Distribution of profit per number of different products the customer purchased historically (in USD)')"
   ]
  },
  {
   "cell_type": "code",
   "execution_count": 52,
   "metadata": {
    "scrolled": false
   },
   "outputs": [
    {
     "data": {
      "text/plain": [
       "Text(0.5, 0, 'Variety of products per customer (Number of different products the customer bought historically)')"
      ]
     },
     "execution_count": 52,
     "metadata": {},
     "output_type": "execute_result"
    },
    {
     "data": {
      "image/png": "[encoded data removed]",
      "text/plain": [
       "<Figure size 1080x432 with 1 Axes>"
      ]
     },
     "metadata": {
      "needs_background": "light"
     },
     "output_type": "display_data"
    }
   ],
   "source": [
    "# To analize better the previous distribution we'll use a boxplot. \n",
    "# It will help us to see the outliers and the IQR - Interquartile Range (difference between the 75th and 25th percentiles) \n",
    "\n",
    "fig, ax = plt.subplots(figsize=(15,6))\n",
    "sns.boxplot(x=df_custprof_prod['Num. diff. products'], y=df_custprof_prod['Total Profit per customer'])\n",
    "ax.set_title('Distribution of profit per number of different products the customer purchase historically')\n",
    "ax.set_ylabel('Profit per customer historically')\n",
    "ax.set_xlabel('Variety of products per customer (Number of different products the customer bought historically)')"
   ]
  },
  {
   "cell_type": "markdown",
   "metadata": {},
   "source": [
    "##### Which is the number of different products purchased historically per client that bring the highest profit to the company?"
   ]
  },
  {
   "cell_type": "code",
   "execution_count": 6,
   "metadata": {
    "scrolled": false
   },
   "outputs": [
    {
     "data": {
      "text/html": [
       "<div>\n",
       "<style scoped>\n",
       "    .dataframe tbody tr th:only-of-type {\n",
       "        vertical-align: middle;\n",
       "    }\n",
       "\n",
       "    .dataframe tbody tr th {\n",
       "        vertical-align: top;\n",
       "    }\n",
       "\n",
       "    .dataframe thead th {\n",
       "        text-align: right;\n",
       "    }\n",
       "</style>\n",
       "<table border=\"1\" class=\"dataframe\">\n",
       "  <thead>\n",
       "    <tr style=\"text-align: right;\">\n",
       "      <th></th>\n",
       "      <th>Total profit historically</th>\n",
       "    </tr>\n",
       "    <tr>\n",
       "      <th>Num. diff. products</th>\n",
       "      <th></th>\n",
       "    </tr>\n",
       "  </thead>\n",
       "  <tbody>\n",
       "    <tr>\n",
       "      <th>9</th>\n",
       "      <td>785494.57</td>\n",
       "    </tr>\n",
       "    <tr>\n",
       "      <th>8</th>\n",
       "      <td>746256.39</td>\n",
       "    </tr>\n",
       "    <tr>\n",
       "      <th>10</th>\n",
       "      <td>668842.38</td>\n",
       "    </tr>\n",
       "    <tr>\n",
       "      <th>7</th>\n",
       "      <td>603820.88</td>\n",
       "    </tr>\n",
       "    <tr>\n",
       "      <th>1</th>\n",
       "      <td>536289.39</td>\n",
       "    </tr>\n",
       "    <tr>\n",
       "      <th>11</th>\n",
       "      <td>431428.21</td>\n",
       "    </tr>\n",
       "    <tr>\n",
       "      <th>6</th>\n",
       "      <td>423349.18</td>\n",
       "    </tr>\n",
       "    <tr>\n",
       "      <th>5</th>\n",
       "      <td>240579.42</td>\n",
       "    </tr>\n",
       "    <tr>\n",
       "      <th>12</th>\n",
       "      <td>221691.86</td>\n",
       "    </tr>\n",
       "    <tr>\n",
       "      <th>4</th>\n",
       "      <td>139033.65</td>\n",
       "    </tr>\n",
       "    <tr>\n",
       "      <th>13</th>\n",
       "      <td>102165.26</td>\n",
       "    </tr>\n",
       "    <tr>\n",
       "      <th>3</th>\n",
       "      <td>62605.46</td>\n",
       "    </tr>\n",
       "    <tr>\n",
       "      <th>14</th>\n",
       "      <td>35843.36</td>\n",
       "    </tr>\n",
       "    <tr>\n",
       "      <th>2</th>\n",
       "      <td>24796.24</td>\n",
       "    </tr>\n",
       "    <tr>\n",
       "      <th>15</th>\n",
       "      <td>15265.70</td>\n",
       "    </tr>\n",
       "    <tr>\n",
       "      <th>16</th>\n",
       "      <td>4955.58</td>\n",
       "    </tr>\n",
       "    <tr>\n",
       "      <th>17</th>\n",
       "      <td>4785.16</td>\n",
       "    </tr>\n",
       "  </tbody>\n",
       "</table>\n",
       "</div>"
      ],
      "text/plain": [
       "                     Total profit historically\n",
       "Num. diff. products                           \n",
       "9                                    785494.57\n",
       "8                                    746256.39\n",
       "10                                   668842.38\n",
       "7                                    603820.88\n",
       "1                                    536289.39\n",
       "11                                   431428.21\n",
       "6                                    423349.18\n",
       "5                                    240579.42\n",
       "12                                   221691.86\n",
       "4                                    139033.65\n",
       "13                                   102165.26\n",
       "3                                     62605.46\n",
       "14                                    35843.36\n",
       "2                                     24796.24\n",
       "15                                    15265.70\n",
       "16                                     4955.58\n",
       "17                                     4785.16"
      ]
     },
     "execution_count": 6,
     "metadata": {},
     "output_type": "execute_result"
    }
   ],
   "source": [
    "df_unitstotprof = df_custprof_prod.groupby(['Num. diff. products']).agg(['sum'])['Total Profit per customer'].sort_values(by='sum', ascending=False)\n",
    "df_unitstotprof.columns = df_unitstotprof.columns.str.replace('sum','Total profit historically')\n",
    "df_unitstotprof"
   ]
  },
  {
   "cell_type": "code",
   "execution_count": 29,
   "metadata": {},
   "outputs": [
    {
     "data": {
      "text/plain": [
       "Text(0.5, 0, 'Number of different products the customer bought historically')"
      ]
     },
     "execution_count": 29,
     "metadata": {},
     "output_type": "execute_result"
    },
    {
     "data": {
      "image/png": "[encoded data removed]",
      "text/plain": [
       "<Figure size 1080x504 with 1 Axes>"
      ]
     },
     "metadata": {
      "needs_background": "light"
     },
     "output_type": "display_data"
    }
   ],
   "source": [
    "ax = plt.figure(figsize=(15,7)).gca()\n",
    "plt.bar(df_unitstotprof.index, df_unitstotprof['Total profit historically'])\n",
    "ax.xaxis.set_major_locator(MaxNLocator(integer=True))\n",
    "ax.set_title('Total profit obtained per number of different products the custumer bougth historically')\n",
    "ax.set_ylabel('Total profit historically')\n",
    "ax.set_xlabel('Number of different products the customer bought historically')"
   ]
  },
  {
   "cell_type": "markdown",
   "metadata": {},
   "source": [
    "#### b) GEOGRAPHICAL LOCATION"
   ]
  },
  {
   "cell_type": "markdown",
   "metadata": {},
   "source": [
    "##### Which are the main countries where the purchases are made?"
   ]
  },
  {
   "cell_type": "code",
   "execution_count": 30,
   "metadata": {
    "scrolled": true
   },
   "outputs": [
    {
     "data": {
      "text/plain": [
       "EE. UU.        0.615703\n",
       "Puerto Rico    0.384297\n",
       "Name: Customer Country, dtype: float64"
      ]
     },
     "execution_count": 30,
     "metadata": {},
     "output_type": "execute_result"
    }
   ],
   "source": [
    "df['Customer Country'].value_counts(normalize=True)"
   ]
  },
  {
   "cell_type": "markdown",
   "metadata": {},
   "source": [
    "##### Which are the main states where the purchases are made?"
   ]
  },
  {
   "cell_type": "code",
   "execution_count": 26,
   "metadata": {},
   "outputs": [
    {
     "data": {
      "text/plain": [
       "PR       69373\n",
       "CA       29223\n",
       "NY       11327\n",
       "TX        9103\n",
       "IL        7631\n",
       "FL        5456\n",
       "OH        4095\n",
       "PA        3824\n",
       "MI        3804\n",
       "NJ        3191\n",
       "AZ        3026\n",
       "GA        2503\n",
       "MD        2415\n",
       "NC        1992\n",
       "CO        1914\n",
       "VA        1849\n",
       "OR        1668\n",
       "MA        1607\n",
       "TN        1582\n",
       "NV        1440\n",
       "MO        1354\n",
       "HI        1248\n",
       "CT        1094\n",
       "UT         968\n",
       "NM         949\n",
       "LA         948\n",
       "WA         920\n",
       "WI         850\n",
       "MN         672\n",
       "SC         665\n",
       "IN         581\n",
       "DC         579\n",
       "KY         487\n",
       "KS         458\n",
       "DE         269\n",
       "RI         243\n",
       "WV         241\n",
       "OK         232\n",
       "ND         215\n",
       "ID         167\n",
       "AR         164\n",
       "MT          87\n",
       "IA          67\n",
       "AL          35\n",
       "95758        2\n",
       "91732        1\n",
       "Name: Customer State, dtype: int64"
      ]
     },
     "execution_count": 26,
     "metadata": {},
     "output_type": "execute_result"
    }
   ],
   "source": [
    "df['Customer State'].value_counts()"
   ]
  },
  {
   "cell_type": "markdown",
   "metadata": {},
   "source": [
    "##### Which are the main cities where the purchases are made?"
   ]
  },
  {
   "cell_type": "code",
   "execution_count": 27,
   "metadata": {
    "scrolled": true
   },
   "outputs": [
    {
     "data": {
      "text/plain": [
       "Caguas         66770\n",
       "Chicago         3885\n",
       "Los Angeles     3417\n",
       "Brooklyn        3412\n",
       "New York        1816\n",
       "               ...  \n",
       "Bartlett          25\n",
       "Malden            22\n",
       "Ponce             22\n",
       "Freehold          13\n",
       "CA                 3\n",
       "Name: Customer City, Length: 563, dtype: int64"
      ]
     },
     "execution_count": 27,
     "metadata": {},
     "output_type": "execute_result"
    }
   ],
   "source": [
    "df['Customer City'].value_counts()"
   ]
  },
  {
   "cell_type": "markdown",
   "metadata": {},
   "source": [
    "##### Which are the main cities where the purchases are made in sales (in USD)?"
   ]
  },
  {
   "cell_type": "code",
   "execution_count": 47,
   "metadata": {
    "scrolled": false
   },
   "outputs": [
    {
     "data": {
      "text/html": [
       "<div>\n",
       "<style scoped>\n",
       "    .dataframe tbody tr th:only-of-type {\n",
       "        vertical-align: middle;\n",
       "    }\n",
       "\n",
       "    .dataframe tbody tr th {\n",
       "        vertical-align: top;\n",
       "    }\n",
       "\n",
       "    .dataframe thead th {\n",
       "        text-align: right;\n",
       "    }\n",
       "</style>\n",
       "<table border=\"1\" class=\"dataframe\">\n",
       "  <thead>\n",
       "    <tr style=\"text-align: right;\">\n",
       "      <th></th>\n",
       "      <th></th>\n",
       "      <th>Sales</th>\n",
       "    </tr>\n",
       "    <tr>\n",
       "      <th>Customer Country</th>\n",
       "      <th>Customer City</th>\n",
       "      <th></th>\n",
       "    </tr>\n",
       "  </thead>\n",
       "  <tbody>\n",
       "    <tr>\n",
       "      <th rowspan=\"10\" valign=\"top\">EE. UU.</th>\n",
       "      <th>Chicago</th>\n",
       "      <td>797,614.21</td>\n",
       "    </tr>\n",
       "    <tr>\n",
       "      <th>Los Angeles</th>\n",
       "      <td>697,887.42</td>\n",
       "    </tr>\n",
       "    <tr>\n",
       "      <th>Brooklyn</th>\n",
       "      <td>676,419.78</td>\n",
       "    </tr>\n",
       "    <tr>\n",
       "      <th>New York</th>\n",
       "      <td>361,217.10</td>\n",
       "    </tr>\n",
       "    <tr>\n",
       "      <th>Philadelphia</th>\n",
       "      <td>315,705.51</td>\n",
       "    </tr>\n",
       "    <tr>\n",
       "      <th>Bronx</th>\n",
       "      <td>308,905.01</td>\n",
       "    </tr>\n",
       "    <tr>\n",
       "      <th>San Diego</th>\n",
       "      <td>293,830.52</td>\n",
       "    </tr>\n",
       "    <tr>\n",
       "      <th>Miami</th>\n",
       "      <td>270,368.20</td>\n",
       "    </tr>\n",
       "    <tr>\n",
       "      <th>Houston</th>\n",
       "      <td>267,347.92</td>\n",
       "    </tr>\n",
       "    <tr>\n",
       "      <th>Las Vegas</th>\n",
       "      <td>241,702.71</td>\n",
       "    </tr>\n",
       "    <tr>\n",
       "      <th rowspan=\"10\" valign=\"top\">Puerto Rico</th>\n",
       "      <th>Caguas</th>\n",
       "      <td>13,610,266.21</td>\n",
       "    </tr>\n",
       "    <tr>\n",
       "      <th>San Juan</th>\n",
       "      <td>68,421.53</td>\n",
       "    </tr>\n",
       "    <tr>\n",
       "      <th>Bayamon</th>\n",
       "      <td>58,949.60</td>\n",
       "    </tr>\n",
       "    <tr>\n",
       "      <th>Humacao</th>\n",
       "      <td>45,851.61</td>\n",
       "    </tr>\n",
       "    <tr>\n",
       "      <th>Manati</th>\n",
       "      <td>32,837.16</td>\n",
       "    </tr>\n",
       "    <tr>\n",
       "      <th>Carolina</th>\n",
       "      <td>32,442.15</td>\n",
       "    </tr>\n",
       "    <tr>\n",
       "      <th>Vega Baja</th>\n",
       "      <td>28,856.20</td>\n",
       "    </tr>\n",
       "    <tr>\n",
       "      <th>Rio Grande</th>\n",
       "      <td>28,603.42</td>\n",
       "    </tr>\n",
       "    <tr>\n",
       "      <th>San Sebastian</th>\n",
       "      <td>28,094.03</td>\n",
       "    </tr>\n",
       "    <tr>\n",
       "      <th>Mayaguez</th>\n",
       "      <td>26,738.44</td>\n",
       "    </tr>\n",
       "  </tbody>\n",
       "</table>\n",
       "</div>"
      ],
      "text/plain": [
       "                                        Sales\n",
       "Customer Country Customer City               \n",
       "EE. UU.          Chicago           797,614.21\n",
       "                 Los Angeles       697,887.42\n",
       "                 Brooklyn          676,419.78\n",
       "                 New York          361,217.10\n",
       "                 Philadelphia      315,705.51\n",
       "                 Bronx             308,905.01\n",
       "                 San Diego         293,830.52\n",
       "                 Miami             270,368.20\n",
       "                 Houston           267,347.92\n",
       "                 Las Vegas         241,702.71\n",
       "Puerto Rico      Caguas         13,610,266.21\n",
       "                 San Juan           68,421.53\n",
       "                 Bayamon            58,949.60\n",
       "                 Humacao            45,851.61\n",
       "                 Manati             32,837.16\n",
       "                 Carolina           32,442.15\n",
       "                 Vega Baja          28,856.20\n",
       "                 Rio Grande         28,603.42\n",
       "                 San Sebastian      28,094.03\n",
       "                 Mayaguez           26,738.44"
      ]
     },
     "execution_count": 47,
     "metadata": {},
     "output_type": "execute_result"
    }
   ],
   "source": [
    "# Create a df with multiindex with country, city, and the # of sales & order it in descending order\n",
    "df_cocit = df.groupby(['Customer Country', 'Customer City']).sum().sort_values(['Customer Country','Sales'], ascending=[True,False])['Sales'].map('{:,.2f}'.format)\n",
    "\n",
    "# The result is a serie, pass it to a df\n",
    "df_cocit = df_cocit.to_frame()\n",
    "\n",
    "# Groupby by Country (level 0 of the index) and show the first 10 results\n",
    "df_cocit.groupby(level=0).head(10)"
   ]
  },
  {
   "cell_type": "markdown",
   "metadata": {},
   "source": [
    "##### Which are the main states where the purchases are made in sales (in USD)?"
   ]
  },
  {
   "cell_type": "code",
   "execution_count": 46,
   "metadata": {
    "scrolled": false
   },
   "outputs": [
    {
     "data": {
      "text/html": [
       "<div>\n",
       "<style scoped>\n",
       "    .dataframe tbody tr th:only-of-type {\n",
       "        vertical-align: middle;\n",
       "    }\n",
       "\n",
       "    .dataframe tbody tr th {\n",
       "        vertical-align: top;\n",
       "    }\n",
       "\n",
       "    .dataframe thead th {\n",
       "        text-align: right;\n",
       "    }\n",
       "</style>\n",
       "<table border=\"1\" class=\"dataframe\">\n",
       "  <thead>\n",
       "    <tr style=\"text-align: right;\">\n",
       "      <th></th>\n",
       "      <th></th>\n",
       "      <th>Sales</th>\n",
       "    </tr>\n",
       "    <tr>\n",
       "      <th>Customer Country</th>\n",
       "      <th>Customer State</th>\n",
       "      <th></th>\n",
       "    </tr>\n",
       "  </thead>\n",
       "  <tbody>\n",
       "    <tr>\n",
       "      <th rowspan=\"10\" valign=\"top\">EE. UU.</th>\n",
       "      <th>CA</th>\n",
       "      <td>5,929,034.02</td>\n",
       "    </tr>\n",
       "    <tr>\n",
       "      <th>NY</th>\n",
       "      <td>2,301,325.15</td>\n",
       "    </tr>\n",
       "    <tr>\n",
       "      <th>TX</th>\n",
       "      <td>1,869,746.10</td>\n",
       "    </tr>\n",
       "    <tr>\n",
       "      <th>IL</th>\n",
       "      <td>1,561,644.53</td>\n",
       "    </tr>\n",
       "    <tr>\n",
       "      <th>FL</th>\n",
       "      <td>1,110,758.41</td>\n",
       "    </tr>\n",
       "    <tr>\n",
       "      <th>OH</th>\n",
       "      <td>833,180.86</td>\n",
       "    </tr>\n",
       "    <tr>\n",
       "      <th>MI</th>\n",
       "      <td>782,401.32</td>\n",
       "    </tr>\n",
       "    <tr>\n",
       "      <th>PA</th>\n",
       "      <td>772,199.01</td>\n",
       "    </tr>\n",
       "    <tr>\n",
       "      <th>NJ</th>\n",
       "      <td>654,152.54</td>\n",
       "    </tr>\n",
       "    <tr>\n",
       "      <th>AZ</th>\n",
       "      <td>611,973.38</td>\n",
       "    </tr>\n",
       "    <tr>\n",
       "      <th>Puerto Rico</th>\n",
       "      <th>PR</th>\n",
       "      <td>14,150,241.77</td>\n",
       "    </tr>\n",
       "  </tbody>\n",
       "</table>\n",
       "</div>"
      ],
      "text/plain": [
       "                                         Sales\n",
       "Customer Country Customer State               \n",
       "EE. UU.          CA               5,929,034.02\n",
       "                 NY               2,301,325.15\n",
       "                 TX               1,869,746.10\n",
       "                 IL               1,561,644.53\n",
       "                 FL               1,110,758.41\n",
       "                 OH                 833,180.86\n",
       "                 MI                 782,401.32\n",
       "                 PA                 772,199.01\n",
       "                 NJ                 654,152.54\n",
       "                 AZ                 611,973.38\n",
       "Puerto Rico      PR              14,150,241.77"
      ]
     },
     "execution_count": 46,
     "metadata": {},
     "output_type": "execute_result"
    }
   ],
   "source": [
    "df_stacit = df.groupby(['Customer Country', 'Customer State']).sum().sort_values(['Customer Country','Sales'], ascending=[True,False])['Sales'].map('{:,.2f}'.format)\n",
    "df_stacit = df_stacit.to_frame()\n",
    "df_stacit.groupby(level=0).head(10)"
   ]
  },
  {
   "cell_type": "markdown",
   "metadata": {},
   "source": [
    "### c) SEGMENTS"
   ]
  },
  {
   "cell_type": "markdown",
   "metadata": {},
   "source": [
    "##### Which are the main segments?"
   ]
  },
  {
   "cell_type": "code",
   "execution_count": 31,
   "metadata": {},
   "outputs": [
    {
     "data": {
      "text/plain": [
       "Consumer       0.517973\n",
       "Corporate      0.303508\n",
       "Home Office    0.178519\n",
       "Name: Customer Segment, dtype: float64"
      ]
     },
     "execution_count": 31,
     "metadata": {},
     "output_type": "execute_result"
    }
   ],
   "source": [
    "df['Customer Segment'].value_counts(normalize= True)"
   ]
  },
  {
   "cell_type": "markdown",
   "metadata": {},
   "source": [
    "##### Which is the main segment per country? (in amount of orders)"
   ]
  },
  {
   "cell_type": "code",
   "execution_count": 56,
   "metadata": {
    "scrolled": false
   },
   "outputs": [
    {
     "data": {
      "text/plain": [
       "Customer Country  Customer Segment\n",
       "EE. UU.           Consumer            57830\n",
       "                  Corporate           33993\n",
       "                  Home Office         19323\n",
       "Puerto Rico       Consumer            35674\n",
       "                  Corporate           20796\n",
       "                  Home Office         12903\n",
       "Name: Type, dtype: int64"
      ]
     },
     "execution_count": 56,
     "metadata": {},
     "output_type": "execute_result"
    }
   ],
   "source": [
    "df.groupby(['Customer Country','Customer Segment']).count()['Type']"
   ]
  },
  {
   "cell_type": "markdown",
   "metadata": {},
   "source": [
    "##### Which is the segment with more profit? (per country)"
   ]
  },
  {
   "cell_type": "code",
   "execution_count": 38,
   "metadata": {},
   "outputs": [
    {
     "data": {
      "text/html": [
       "<style  type=\"text/css\" >\n",
       "</style><table id=\"T_5fe8512f_90db_11ec_9502_54e1ad372934\" ><thead>    <tr>        <th class=\"blank\" ></th>        <th class=\"blank level0\" ></th>        <th class=\"col_heading level0 col0\" >Total Profit</th>    </tr>    <tr>        <th class=\"index_name level0\" >Customer Country</th>        <th class=\"index_name level1\" >Customer Segment</th>        <th class=\"blank\" ></th>    </tr></thead><tbody>\n",
       "                <tr>\n",
       "                        <th id=\"T_5fe8512f_90db_11ec_9502_54e1ad372934level0_row0\" class=\"row_heading level0 row0\" rowspan=3>EE. UU.</th>\n",
       "                        <th id=\"T_5fe8512f_90db_11ec_9502_54e1ad372934level1_row0\" class=\"row_heading level1 row0\" >Consumer</th>\n",
       "                        <td id=\"T_5fe8512f_90db_11ec_9502_54e1ad372934row0_col0\" class=\"data row0 col0\" >2,530,243</td>\n",
       "            </tr>\n",
       "            <tr>\n",
       "                                <th id=\"T_5fe8512f_90db_11ec_9502_54e1ad372934level1_row1\" class=\"row_heading level1 row1\" >Corporate</th>\n",
       "                        <td id=\"T_5fe8512f_90db_11ec_9502_54e1ad372934row1_col0\" class=\"data row1 col0\" >1,474,550</td>\n",
       "            </tr>\n",
       "            <tr>\n",
       "                                <th id=\"T_5fe8512f_90db_11ec_9502_54e1ad372934level1_row2\" class=\"row_heading level1 row2\" >Home Office</th>\n",
       "                        <td id=\"T_5fe8512f_90db_11ec_9502_54e1ad372934row2_col0\" class=\"data row2 col0\" >832,492</td>\n",
       "            </tr>\n",
       "            <tr>\n",
       "                        <th id=\"T_5fe8512f_90db_11ec_9502_54e1ad372934level0_row3\" class=\"row_heading level0 row3\" rowspan=3>Puerto Rico</th>\n",
       "                        <th id=\"T_5fe8512f_90db_11ec_9502_54e1ad372934level1_row3\" class=\"row_heading level1 row3\" >Consumer</th>\n",
       "                        <td id=\"T_5fe8512f_90db_11ec_9502_54e1ad372934row3_col0\" class=\"data row3 col0\" >1,554,582</td>\n",
       "            </tr>\n",
       "            <tr>\n",
       "                                <th id=\"T_5fe8512f_90db_11ec_9502_54e1ad372934level1_row4\" class=\"row_heading level1 row4\" >Corporate</th>\n",
       "                        <td id=\"T_5fe8512f_90db_11ec_9502_54e1ad372934row4_col0\" class=\"data row4 col0\" >904,078</td>\n",
       "            </tr>\n",
       "            <tr>\n",
       "                                <th id=\"T_5fe8512f_90db_11ec_9502_54e1ad372934level1_row5\" class=\"row_heading level1 row5\" >Home Office</th>\n",
       "                        <td id=\"T_5fe8512f_90db_11ec_9502_54e1ad372934row5_col0\" class=\"data row5 col0\" >554,502</td>\n",
       "            </tr>\n",
       "    </tbody></table>"
      ],
      "text/plain": [
       "<pandas.io.formats.style.Styler at 0x22d322a9d00>"
      ]
     },
     "execution_count": 38,
     "metadata": {},
     "output_type": "execute_result"
    }
   ],
   "source": [
    "df_segprof = df[df['Order Profit Per Order'] > 0]\n",
    "df_segprof = df_segprof.groupby(['Customer Country','Customer Segment']).sum()['Order Profit Per Order'].to_frame(name='Total Profit')\n",
    "df_segprof.astype('int64').style.format('{:,}')"
   ]
  },
  {
   "cell_type": "markdown",
   "metadata": {},
   "source": [
    "##### CONCLUSION:\n",
    "\n",
    "a) Customers\n",
    "\n",
    "* The company has 20,652 registered customers.\n",
    "\n",
    "* 40% of the times the customers purchase one single type of product, and 60% they purchase more than one different product (from 2 units till 17 products per purchase).\n",
    "\n",
    "* Clients who buy more than one different product tend to bring more revenue to the company. Nonetheless, the distribution of profit is similar if the buy 1, 2 or 3 different products. \n",
    "\n",
    "* Historically the biggest profit has been received by clients who buy a lot of different products, mainly 9, 8 and 10 different products.\n",
    "\n",
    "b) Geographical location\n",
    "\n",
    "* The customers are from two countries: 61,6% USA and 38,4% Puerto Rico. \n",
    "\n",
    "* The main states from where the purchases were made are PR (Puerto Rico), CA (California) and NY (New York).\n",
    "\n",
    "* The main cities where the purchases were made are Caguas (Puerto Rico), Chicago (USA) and Los Angeles (USA).\n",
    "\n",
    "* The cities where the purchases were made that brought more sales (in USD) are: Chicago, Los Angeles and Brooklyn in USA, and Caguas in Puerto Rico.   \n",
    "\n",
    "* The main states where the purchases were made in sales (in USD) are: PR in Puerto Rico, and CA (California), NY (New York) and TX(Texas) in USA. \n",
    "\n",
    "c) Segments\n",
    "\n",
    "* The customer are divided in 3 segments: Consumer, Corporate and Home Office.\n",
    "\n",
    "* The segment with more orders in both Countries is \"Consumer\" category. It's also the segment with the highest profit. \n",
    "\n"
   ]
  }
 ],
 "metadata": {
  "kernelspec": {
   "display_name": "Python 3",
   "language": "python",
   "name": "python3"
  },
  "language_info": {
   "codemirror_mode": {
    "name": "ipython",
    "version": 3
   },
   "file_extension": ".py",
   "mimetype": "text/x-python",
   "name": "python",
   "nbconvert_exporter": "python",
   "pygments_lexer": "ipython3",
   "version": "3.8.5"
  }
 },
 "nbformat": 4,
 "nbformat_minor": 4
}
